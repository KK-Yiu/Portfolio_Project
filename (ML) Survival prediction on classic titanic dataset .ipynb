{
 "cells": [
  {
   "cell_type": "markdown",
   "id": "e6735985",
   "metadata": {
    "papermill": {
     "duration": 0.057377,
     "end_time": "2021-11-22T10:24:22.614422",
     "exception": false,
     "start_time": "2021-11-22T10:24:22.557045",
     "status": "completed"
    },
    "tags": []
   },
   "source": [
    "# **Introduction**\n",
    "This is a Machine Learning project using Titanic dataset. The purpose of this project is to predict who will survive and who will die during the titanic tragedy. The prediction will be submitted to join the Kaggel competition."
   ]
  },
  {
   "cell_type": "markdown",
   "id": "c5bc4dfb",
   "metadata": {
    "papermill": {
     "duration": 0.055909,
     "end_time": "2021-11-22T10:24:22.726432",
     "exception": false,
     "start_time": "2021-11-22T10:24:22.670523",
     "status": "completed"
    },
    "tags": []
   },
   "source": [
    "# **Data**\n"
   ]
  },
  {
   "cell_type": "markdown",
   "id": "7542c6c2",
   "metadata": {
    "papermill": {
     "duration": 0.056862,
     "end_time": "2021-11-22T10:24:22.839618",
     "exception": false,
     "start_time": "2021-11-22T10:24:22.782756",
     "status": "completed"
    },
    "tags": []
   },
   "source": [
    "There are two datasets:**(1) train.csv**, **(2) test.csv**.\n",
    "\n",
    "**(1) train.csv**\n",
    "train.csv contains the details of a subset of the passengers on board (891 passengers)\n",
    "\n",
    "The values in the column (\"Survived\") can be used to determine whether each passenger survived or not:\n",
    "\n",
    "* if it's a \"1\", the passenger survived.\n",
    "* if it's a \"0\", the passenger died.\n",
    "\n",
    "**(2) test.csv**\n",
    "Using the patterns I find in train.csv, I have to predict whether the other 418 passengers on board (in test.csv) survived\n",
    "\n",
    "In the following parts, I am going to explore the train data and clean up the data. Then I will try to create models and choose the best model to predict based on the features of passengers."
   ]
  },
  {
   "cell_type": "markdown",
   "id": "9481fe6b",
   "metadata": {
    "papermill": {
     "duration": 0.056411,
     "end_time": "2021-11-22T10:24:22.952298",
     "exception": false,
     "start_time": "2021-11-22T10:24:22.895887",
     "status": "completed"
    },
    "tags": []
   },
   "source": [
    "# **Data Exploration**"
   ]
  },
  {
   "cell_type": "code",
   "execution_count": 1,
   "id": "a741a4c0",
   "metadata": {
    "execution": {
     "iopub.execute_input": "2021-11-22T10:24:23.075421Z",
     "iopub.status.busy": "2021-11-22T10:24:23.074501Z",
     "iopub.status.idle": "2021-11-22T10:24:24.011647Z",
     "shell.execute_reply": "2021-11-22T10:24:24.012161Z",
     "shell.execute_reply.started": "2021-11-22T10:23:53.192830Z"
    },
    "papermill": {
     "duration": 1.003249,
     "end_time": "2021-11-22T10:24:24.012519",
     "exception": false,
     "start_time": "2021-11-22T10:24:23.009270",
     "status": "completed"
    },
    "tags": []
   },
   "outputs": [],
   "source": [
    "#import necessary libraries\n",
    "import pandas as pd\n",
    "import numpy as np\n",
    "import matplotlib.pyplot as plt\n",
    "import seaborn as sns\n",
    "%matplotlib inline"
   ]
  },
  {
   "cell_type": "code",
   "execution_count": 2,
   "id": "67d71d14",
   "metadata": {
    "execution": {
     "iopub.execute_input": "2021-11-22T10:24:24.189979Z",
     "iopub.status.busy": "2021-11-22T10:24:24.188929Z",
     "iopub.status.idle": "2021-11-22T10:24:24.221779Z",
     "shell.execute_reply": "2021-11-22T10:24:24.222262Z",
     "shell.execute_reply.started": "2021-11-22T10:23:54.208164Z"
    },
    "papermill": {
     "duration": 0.153323,
     "end_time": "2021-11-22T10:24:24.222487",
     "exception": false,
     "start_time": "2021-11-22T10:24:24.069164",
     "status": "completed"
    },
    "tags": []
   },
   "outputs": [],
   "source": [
    "# read the csv file\n",
    "train_df = pd.read_csv('titanic_train.csv')\n",
    "test_df =pd.read_csv('titanic_test.csv')"
   ]
  },
  {
   "cell_type": "code",
   "execution_count": 3,
   "id": "e526356a",
   "metadata": {
    "execution": {
     "iopub.execute_input": "2021-11-22T10:24:24.339120Z",
     "iopub.status.busy": "2021-11-22T10:24:24.338139Z",
     "iopub.status.idle": "2021-11-22T10:24:24.362440Z",
     "shell.execute_reply": "2021-11-22T10:24:24.362997Z",
     "shell.execute_reply.started": "2021-11-22T10:23:54.239794Z"
    },
    "papermill": {
     "duration": 0.083989,
     "end_time": "2021-11-22T10:24:24.363183",
     "exception": false,
     "start_time": "2021-11-22T10:24:24.279194",
     "status": "completed"
    },
    "scrolled": true,
    "tags": []
   },
   "outputs": [
    {
     "data": {
      "text/html": [
       "<div>\n",
       "<style scoped>\n",
       "    .dataframe tbody tr th:only-of-type {\n",
       "        vertical-align: middle;\n",
       "    }\n",
       "\n",
       "    .dataframe tbody tr th {\n",
       "        vertical-align: top;\n",
       "    }\n",
       "\n",
       "    .dataframe thead th {\n",
       "        text-align: right;\n",
       "    }\n",
       "</style>\n",
       "<table border=\"1\" class=\"dataframe\">\n",
       "  <thead>\n",
       "    <tr style=\"text-align: right;\">\n",
       "      <th></th>\n",
       "      <th>PassengerId</th>\n",
       "      <th>Survived</th>\n",
       "      <th>Pclass</th>\n",
       "      <th>Name</th>\n",
       "      <th>Sex</th>\n",
       "      <th>Age</th>\n",
       "      <th>SibSp</th>\n",
       "      <th>Parch</th>\n",
       "      <th>Ticket</th>\n",
       "      <th>Fare</th>\n",
       "      <th>Cabin</th>\n",
       "      <th>Embarked</th>\n",
       "    </tr>\n",
       "  </thead>\n",
       "  <tbody>\n",
       "    <tr>\n",
       "      <th>886</th>\n",
       "      <td>887</td>\n",
       "      <td>0</td>\n",
       "      <td>2</td>\n",
       "      <td>Montvila, Rev. Juozas</td>\n",
       "      <td>male</td>\n",
       "      <td>27.0</td>\n",
       "      <td>0</td>\n",
       "      <td>0</td>\n",
       "      <td>211536</td>\n",
       "      <td>13.00</td>\n",
       "      <td>NaN</td>\n",
       "      <td>S</td>\n",
       "    </tr>\n",
       "    <tr>\n",
       "      <th>887</th>\n",
       "      <td>888</td>\n",
       "      <td>1</td>\n",
       "      <td>1</td>\n",
       "      <td>Graham, Miss. Margaret Edith</td>\n",
       "      <td>female</td>\n",
       "      <td>19.0</td>\n",
       "      <td>0</td>\n",
       "      <td>0</td>\n",
       "      <td>112053</td>\n",
       "      <td>30.00</td>\n",
       "      <td>B42</td>\n",
       "      <td>S</td>\n",
       "    </tr>\n",
       "    <tr>\n",
       "      <th>888</th>\n",
       "      <td>889</td>\n",
       "      <td>0</td>\n",
       "      <td>3</td>\n",
       "      <td>Johnston, Miss. Catherine Helen \"Carrie\"</td>\n",
       "      <td>female</td>\n",
       "      <td>NaN</td>\n",
       "      <td>1</td>\n",
       "      <td>2</td>\n",
       "      <td>W./C. 6607</td>\n",
       "      <td>23.45</td>\n",
       "      <td>NaN</td>\n",
       "      <td>S</td>\n",
       "    </tr>\n",
       "    <tr>\n",
       "      <th>889</th>\n",
       "      <td>890</td>\n",
       "      <td>1</td>\n",
       "      <td>1</td>\n",
       "      <td>Behr, Mr. Karl Howell</td>\n",
       "      <td>male</td>\n",
       "      <td>26.0</td>\n",
       "      <td>0</td>\n",
       "      <td>0</td>\n",
       "      <td>111369</td>\n",
       "      <td>30.00</td>\n",
       "      <td>C148</td>\n",
       "      <td>C</td>\n",
       "    </tr>\n",
       "    <tr>\n",
       "      <th>890</th>\n",
       "      <td>891</td>\n",
       "      <td>0</td>\n",
       "      <td>3</td>\n",
       "      <td>Dooley, Mr. Patrick</td>\n",
       "      <td>male</td>\n",
       "      <td>32.0</td>\n",
       "      <td>0</td>\n",
       "      <td>0</td>\n",
       "      <td>370376</td>\n",
       "      <td>7.75</td>\n",
       "      <td>NaN</td>\n",
       "      <td>Q</td>\n",
       "    </tr>\n",
       "  </tbody>\n",
       "</table>\n",
       "</div>"
      ],
      "text/plain": [
       "     PassengerId  Survived  Pclass                                      Name  \\\n",
       "886          887         0       2                     Montvila, Rev. Juozas   \n",
       "887          888         1       1              Graham, Miss. Margaret Edith   \n",
       "888          889         0       3  Johnston, Miss. Catherine Helen \"Carrie\"   \n",
       "889          890         1       1                     Behr, Mr. Karl Howell   \n",
       "890          891         0       3                       Dooley, Mr. Patrick   \n",
       "\n",
       "        Sex   Age  SibSp  Parch      Ticket   Fare Cabin Embarked  \n",
       "886    male  27.0      0      0      211536  13.00   NaN        S  \n",
       "887  female  19.0      0      0      112053  30.00   B42        S  \n",
       "888  female   NaN      1      2  W./C. 6607  23.45   NaN        S  \n",
       "889    male  26.0      0      0      111369  30.00  C148        C  \n",
       "890    male  32.0      0      0      370376   7.75   NaN        Q  "
      ]
     },
     "execution_count": 3,
     "metadata": {},
     "output_type": "execute_result"
    }
   ],
   "source": [
    "train_df.tail()"
   ]
  },
  {
   "cell_type": "code",
   "execution_count": 4,
   "id": "cc7a8a66",
   "metadata": {
    "execution": {
     "iopub.execute_input": "2021-11-22T10:24:24.485615Z",
     "iopub.status.busy": "2021-11-22T10:24:24.484781Z",
     "iopub.status.idle": "2021-11-22T10:24:24.515059Z",
     "shell.execute_reply": "2021-11-22T10:24:24.515623Z",
     "shell.execute_reply.started": "2021-11-22T10:23:54.266682Z"
    },
    "papermill": {
     "duration": 0.092184,
     "end_time": "2021-11-22T10:24:24.515825",
     "exception": false,
     "start_time": "2021-11-22T10:24:24.423641",
     "status": "completed"
    },
    "tags": []
   },
   "outputs": [
    {
     "name": "stdout",
     "output_type": "stream",
     "text": [
      "<class 'pandas.core.frame.DataFrame'>\n",
      "RangeIndex: 891 entries, 0 to 890\n",
      "Data columns (total 12 columns):\n",
      " #   Column       Non-Null Count  Dtype  \n",
      "---  ------       --------------  -----  \n",
      " 0   PassengerId  891 non-null    int64  \n",
      " 1   Survived     891 non-null    int64  \n",
      " 2   Pclass       891 non-null    int64  \n",
      " 3   Name         891 non-null    object \n",
      " 4   Sex          891 non-null    object \n",
      " 5   Age          714 non-null    float64\n",
      " 6   SibSp        891 non-null    int64  \n",
      " 7   Parch        891 non-null    int64  \n",
      " 8   Ticket       891 non-null    object \n",
      " 9   Fare         891 non-null    float64\n",
      " 10  Cabin        204 non-null    object \n",
      " 11  Embarked     889 non-null    object \n",
      "dtypes: float64(2), int64(5), object(5)\n",
      "memory usage: 83.7+ KB\n",
      "\n",
      "\n",
      "<class 'pandas.core.frame.DataFrame'>\n",
      "RangeIndex: 418 entries, 0 to 417\n",
      "Data columns (total 11 columns):\n",
      " #   Column       Non-Null Count  Dtype  \n",
      "---  ------       --------------  -----  \n",
      " 0   PassengerId  418 non-null    int64  \n",
      " 1   Pclass       418 non-null    int64  \n",
      " 2   Name         418 non-null    object \n",
      " 3   Sex          418 non-null    object \n",
      " 4   Age          332 non-null    float64\n",
      " 5   SibSp        418 non-null    int64  \n",
      " 6   Parch        418 non-null    int64  \n",
      " 7   Ticket       418 non-null    object \n",
      " 8   Fare         417 non-null    float64\n",
      " 9   Cabin        91 non-null     object \n",
      " 10  Embarked     418 non-null    object \n",
      "dtypes: float64(2), int64(4), object(5)\n",
      "memory usage: 36.0+ KB\n"
     ]
    }
   ],
   "source": [
    "train_df.info()\n",
    "print('\\n')\n",
    "test_df.info()"
   ]
  },
  {
   "cell_type": "markdown",
   "id": "17beaf8f",
   "metadata": {
    "papermill": {
     "duration": 0.059002,
     "end_time": "2021-11-22T10:24:24.632755",
     "exception": false,
     "start_time": "2021-11-22T10:24:24.573753",
     "status": "completed"
    },
    "tags": []
   },
   "source": [
    "**Indentify the data type of features**\n",
    "* **Categorical:** Survived,Pclass, Sex, and Embarked\n",
    "* **Numerical Features:** Age (Continuous), Fare (Continuous), SibSp (Discrete), Parch (Discrete)\n",
    "* **Alphanumeric Features:** Ticket, Cabin\n",
    "* **Typos:** Name"
   ]
  },
  {
   "cell_type": "markdown",
   "id": "2fb1eb70",
   "metadata": {
    "papermill": {
     "duration": 0.057271,
     "end_time": "2021-11-22T10:24:24.747564",
     "exception": false,
     "start_time": "2021-11-22T10:24:24.690293",
     "status": "completed"
    },
    "tags": []
   },
   "source": [
    "# **Data Exploration**"
   ]
  },
  {
   "cell_type": "code",
   "execution_count": 5,
   "id": "ec9b948b",
   "metadata": {
    "execution": {
     "iopub.execute_input": "2021-11-22T10:24:24.873401Z",
     "iopub.status.busy": "2021-11-22T10:24:24.872695Z",
     "iopub.status.idle": "2021-11-22T10:24:24.901643Z",
     "shell.execute_reply": "2021-11-22T10:24:24.902228Z",
     "shell.execute_reply.started": "2021-11-22T10:23:54.303971Z"
    },
    "papermill": {
     "duration": 0.096299,
     "end_time": "2021-11-22T10:24:24.902434",
     "exception": false,
     "start_time": "2021-11-22T10:24:24.806135",
     "status": "completed"
    },
    "tags": []
   },
   "outputs": [
    {
     "data": {
      "text/html": [
       "<div>\n",
       "<style scoped>\n",
       "    .dataframe tbody tr th:only-of-type {\n",
       "        vertical-align: middle;\n",
       "    }\n",
       "\n",
       "    .dataframe tbody tr th {\n",
       "        vertical-align: top;\n",
       "    }\n",
       "\n",
       "    .dataframe thead th {\n",
       "        text-align: right;\n",
       "    }\n",
       "</style>\n",
       "<table border=\"1\" class=\"dataframe\">\n",
       "  <thead>\n",
       "    <tr style=\"text-align: right;\">\n",
       "      <th></th>\n",
       "      <th>PassengerId</th>\n",
       "      <th>Survived</th>\n",
       "      <th>Pclass</th>\n",
       "      <th>Age</th>\n",
       "      <th>SibSp</th>\n",
       "      <th>Parch</th>\n",
       "      <th>Fare</th>\n",
       "    </tr>\n",
       "  </thead>\n",
       "  <tbody>\n",
       "    <tr>\n",
       "      <th>count</th>\n",
       "      <td>891.000000</td>\n",
       "      <td>891.000000</td>\n",
       "      <td>891.000000</td>\n",
       "      <td>714.000000</td>\n",
       "      <td>891.000000</td>\n",
       "      <td>891.000000</td>\n",
       "      <td>891.000000</td>\n",
       "    </tr>\n",
       "    <tr>\n",
       "      <th>mean</th>\n",
       "      <td>446.000000</td>\n",
       "      <td>0.383838</td>\n",
       "      <td>2.308642</td>\n",
       "      <td>29.699118</td>\n",
       "      <td>0.523008</td>\n",
       "      <td>0.381594</td>\n",
       "      <td>32.204208</td>\n",
       "    </tr>\n",
       "    <tr>\n",
       "      <th>std</th>\n",
       "      <td>257.353842</td>\n",
       "      <td>0.486592</td>\n",
       "      <td>0.836071</td>\n",
       "      <td>14.526497</td>\n",
       "      <td>1.102743</td>\n",
       "      <td>0.806057</td>\n",
       "      <td>49.693429</td>\n",
       "    </tr>\n",
       "    <tr>\n",
       "      <th>min</th>\n",
       "      <td>1.000000</td>\n",
       "      <td>0.000000</td>\n",
       "      <td>1.000000</td>\n",
       "      <td>0.420000</td>\n",
       "      <td>0.000000</td>\n",
       "      <td>0.000000</td>\n",
       "      <td>0.000000</td>\n",
       "    </tr>\n",
       "    <tr>\n",
       "      <th>25%</th>\n",
       "      <td>223.500000</td>\n",
       "      <td>0.000000</td>\n",
       "      <td>2.000000</td>\n",
       "      <td>20.125000</td>\n",
       "      <td>0.000000</td>\n",
       "      <td>0.000000</td>\n",
       "      <td>7.910400</td>\n",
       "    </tr>\n",
       "    <tr>\n",
       "      <th>50%</th>\n",
       "      <td>446.000000</td>\n",
       "      <td>0.000000</td>\n",
       "      <td>3.000000</td>\n",
       "      <td>28.000000</td>\n",
       "      <td>0.000000</td>\n",
       "      <td>0.000000</td>\n",
       "      <td>14.454200</td>\n",
       "    </tr>\n",
       "    <tr>\n",
       "      <th>75%</th>\n",
       "      <td>668.500000</td>\n",
       "      <td>1.000000</td>\n",
       "      <td>3.000000</td>\n",
       "      <td>38.000000</td>\n",
       "      <td>1.000000</td>\n",
       "      <td>0.000000</td>\n",
       "      <td>31.000000</td>\n",
       "    </tr>\n",
       "    <tr>\n",
       "      <th>max</th>\n",
       "      <td>891.000000</td>\n",
       "      <td>1.000000</td>\n",
       "      <td>3.000000</td>\n",
       "      <td>80.000000</td>\n",
       "      <td>8.000000</td>\n",
       "      <td>6.000000</td>\n",
       "      <td>512.329200</td>\n",
       "    </tr>\n",
       "  </tbody>\n",
       "</table>\n",
       "</div>"
      ],
      "text/plain": [
       "       PassengerId    Survived      Pclass         Age       SibSp  \\\n",
       "count   891.000000  891.000000  891.000000  714.000000  891.000000   \n",
       "mean    446.000000    0.383838    2.308642   29.699118    0.523008   \n",
       "std     257.353842    0.486592    0.836071   14.526497    1.102743   \n",
       "min       1.000000    0.000000    1.000000    0.420000    0.000000   \n",
       "25%     223.500000    0.000000    2.000000   20.125000    0.000000   \n",
       "50%     446.000000    0.000000    3.000000   28.000000    0.000000   \n",
       "75%     668.500000    1.000000    3.000000   38.000000    1.000000   \n",
       "max     891.000000    1.000000    3.000000   80.000000    8.000000   \n",
       "\n",
       "            Parch        Fare  \n",
       "count  891.000000  891.000000  \n",
       "mean     0.381594   32.204208  \n",
       "std      0.806057   49.693429  \n",
       "min      0.000000    0.000000  \n",
       "25%      0.000000    7.910400  \n",
       "50%      0.000000   14.454200  \n",
       "75%      0.000000   31.000000  \n",
       "max      6.000000  512.329200  "
      ]
     },
     "execution_count": 5,
     "metadata": {},
     "output_type": "execute_result"
    }
   ],
   "source": [
    "train_df.describe()"
   ]
  },
  {
   "cell_type": "code",
   "execution_count": 6,
   "id": "49e37401",
   "metadata": {
    "execution": {
     "iopub.execute_input": "2021-11-22T10:24:25.026687Z",
     "iopub.status.busy": "2021-11-22T10:24:25.025957Z",
     "iopub.status.idle": "2021-11-22T10:24:25.046871Z",
     "shell.execute_reply": "2021-11-22T10:24:25.047419Z",
     "shell.execute_reply.started": "2021-11-22T10:23:54.343103Z"
    },
    "papermill": {
     "duration": 0.084076,
     "end_time": "2021-11-22T10:24:25.047599",
     "exception": false,
     "start_time": "2021-11-22T10:24:24.963523",
     "status": "completed"
    },
    "tags": []
   },
   "outputs": [
    {
     "data": {
      "text/html": [
       "<div>\n",
       "<style scoped>\n",
       "    .dataframe tbody tr th:only-of-type {\n",
       "        vertical-align: middle;\n",
       "    }\n",
       "\n",
       "    .dataframe tbody tr th {\n",
       "        vertical-align: top;\n",
       "    }\n",
       "\n",
       "    .dataframe thead th {\n",
       "        text-align: right;\n",
       "    }\n",
       "</style>\n",
       "<table border=\"1\" class=\"dataframe\">\n",
       "  <thead>\n",
       "    <tr style=\"text-align: right;\">\n",
       "      <th></th>\n",
       "      <th>Name</th>\n",
       "      <th>Sex</th>\n",
       "      <th>Ticket</th>\n",
       "      <th>Cabin</th>\n",
       "      <th>Embarked</th>\n",
       "    </tr>\n",
       "  </thead>\n",
       "  <tbody>\n",
       "    <tr>\n",
       "      <th>count</th>\n",
       "      <td>891</td>\n",
       "      <td>891</td>\n",
       "      <td>891</td>\n",
       "      <td>204</td>\n",
       "      <td>889</td>\n",
       "    </tr>\n",
       "    <tr>\n",
       "      <th>unique</th>\n",
       "      <td>891</td>\n",
       "      <td>2</td>\n",
       "      <td>681</td>\n",
       "      <td>147</td>\n",
       "      <td>3</td>\n",
       "    </tr>\n",
       "    <tr>\n",
       "      <th>top</th>\n",
       "      <td>Porter, Mr. Walter Chamberlain</td>\n",
       "      <td>male</td>\n",
       "      <td>1601</td>\n",
       "      <td>B96 B98</td>\n",
       "      <td>S</td>\n",
       "    </tr>\n",
       "    <tr>\n",
       "      <th>freq</th>\n",
       "      <td>1</td>\n",
       "      <td>577</td>\n",
       "      <td>7</td>\n",
       "      <td>4</td>\n",
       "      <td>644</td>\n",
       "    </tr>\n",
       "  </tbody>\n",
       "</table>\n",
       "</div>"
      ],
      "text/plain": [
       "                                  Name   Sex Ticket    Cabin Embarked\n",
       "count                              891   891    891      204      889\n",
       "unique                             891     2    681      147        3\n",
       "top     Porter, Mr. Walter Chamberlain  male   1601  B96 B98        S\n",
       "freq                                 1   577      7        4      644"
      ]
     },
     "execution_count": 6,
     "metadata": {},
     "output_type": "execute_result"
    }
   ],
   "source": [
    "train_df.describe(include=['O'])"
   ]
  },
  {
   "cell_type": "code",
   "execution_count": 7,
   "id": "923b93c0",
   "metadata": {
    "execution": {
     "iopub.execute_input": "2021-11-22T10:24:25.168606Z",
     "iopub.status.busy": "2021-11-22T10:24:25.167962Z",
     "iopub.status.idle": "2021-11-22T10:24:25.175059Z",
     "shell.execute_reply": "2021-11-22T10:24:25.175692Z",
     "shell.execute_reply.started": "2021-11-22T10:23:54.367879Z"
    },
    "papermill": {
     "duration": 0.069043,
     "end_time": "2021-11-22T10:24:25.175891",
     "exception": false,
     "start_time": "2021-11-22T10:24:25.106848",
     "status": "completed"
    },
    "tags": []
   },
   "outputs": [
    {
     "name": "stdout",
     "output_type": "stream",
     "text": [
      "PassengerId      0\n",
      "Survived         0\n",
      "Pclass           0\n",
      "Name             0\n",
      "Sex              0\n",
      "Age            177\n",
      "SibSp            0\n",
      "Parch            0\n",
      "Ticket           0\n",
      "Fare             0\n",
      "Cabin          687\n",
      "Embarked         2\n",
      "dtype: int64\n"
     ]
    }
   ],
   "source": [
    "print(pd.isnull(train_df).sum())"
   ]
  },
  {
   "cell_type": "code",
   "execution_count": 8,
   "id": "3570256c",
   "metadata": {
    "execution": {
     "iopub.execute_input": "2021-11-22T10:24:25.297392Z",
     "iopub.status.busy": "2021-11-22T10:24:25.296697Z",
     "iopub.status.idle": "2021-11-22T10:24:25.669768Z",
     "shell.execute_reply": "2021-11-22T10:24:25.669212Z",
     "shell.execute_reply.started": "2021-11-22T10:23:54.384044Z"
    },
    "papermill": {
     "duration": 0.434829,
     "end_time": "2021-11-22T10:24:25.669921",
     "exception": false,
     "start_time": "2021-11-22T10:24:25.235092",
     "status": "completed"
    },
    "tags": []
   },
   "outputs": [
    {
     "data": {
      "text/plain": [
       "<AxesSubplot:>"
      ]
     },
     "execution_count": 8,
     "metadata": {},
     "output_type": "execute_result"
    },
    {
     "data": {
      "image/png": "[encoded data removed]",
      "text/plain": [
       "<Figure size 432x288 with 1 Axes>"
      ]
     },
     "metadata": {
      "needs_background": "light"
     },
     "output_type": "display_data"
    }
   ],
   "source": [
    "sns.heatmap(train_df.isnull(),yticklabels=False,cbar=False)"
   ]
  },
  {
   "cell_type": "markdown",
   "id": "b1205de1",
   "metadata": {
    "papermill": {
     "duration": 0.06006,
     "end_time": "2021-11-22T10:24:25.790470",
     "exception": false,
     "start_time": "2021-11-22T10:24:25.730410",
     "status": "completed"
    },
    "tags": []
   },
   "source": [
    "**About the train_df data**\n",
    "* Total passengers in train.csv are 891 or 40% of the actual number of passengers on board the Titanic (2,224).\n",
    "* There are roughly 20% missing data in Age. I assume that Age is an important feature so I am going to fill the missing value with the mean age of passengers\n",
    "* There are roughly 80% missing data in Cabin column and this feature may be dropped.\n",
    "* There are 2 missing data in Embarked\n",
    "* Ticket may be dropped as there are over 200 duplicates and Ticket inforamtion may not be highly correlated to survival\n",
    "* Name is not directly related to survival so It may be dropped."
   ]
  },
  {
   "cell_type": "markdown",
   "id": "8168f8ce",
   "metadata": {
    "papermill": {
     "duration": 0.060005,
     "end_time": "2021-11-22T10:24:25.911461",
     "exception": false,
     "start_time": "2021-11-22T10:24:25.851456",
     "status": "completed"
    },
    "tags": []
   },
   "source": [
    "**Assumptions**\n",
    "\n",
    "In order to predict accurately, I need to explore features which correlate with survivals.It is assumed that:\n",
    "\n",
    "* Sex: Womens(Sex=female) are more likely to survive.\n",
    "* SibSp/Parch: People traveling alone are more likely to survive.\n",
    "* Age: Young children are more likely to survive.\n",
    "* Pclass: The upper-class passengers (Pclass=1) are more likely to survive.\n"
   ]
  },
  {
   "cell_type": "markdown",
   "id": "2bce8d4b",
   "metadata": {
    "papermill": {
     "duration": 0.060051,
     "end_time": "2021-11-22T10:24:26.031658",
     "exception": false,
     "start_time": "2021-11-22T10:24:25.971607",
     "status": "completed"
    },
    "tags": []
   },
   "source": [
    "**Pclass feature**"
   ]
  },
  {
   "cell_type": "code",
   "execution_count": 9,
   "id": "bac6a08e",
   "metadata": {
    "execution": {
     "iopub.execute_input": "2021-11-22T10:24:26.158196Z",
     "iopub.status.busy": "2021-11-22T10:24:26.154471Z",
     "iopub.status.idle": "2021-11-22T10:24:27.807181Z",
     "shell.execute_reply": "2021-11-22T10:24:27.806469Z",
     "shell.execute_reply.started": "2021-11-22T10:23:54.751075Z"
    },
    "papermill": {
     "duration": 1.715739,
     "end_time": "2021-11-22T10:24:27.807325",
     "exception": false,
     "start_time": "2021-11-22T10:24:26.091586",
     "status": "completed"
    },
    "tags": []
   },
   "outputs": [
    {
     "data": {
      "text/plain": [
       "<seaborn.axisgrid.FacetGrid at 0x1eb476494f0>"
      ]
     },
     "execution_count": 9,
     "metadata": {},
     "output_type": "execute_result"
    },
    {
     "data": {
      "image/png": "[encoded data removed]",
      "text/plain": [
       "<Figure size 432x648 with 6 Axes>"
      ]
     },
     "metadata": {
      "needs_background": "light"
     },
     "output_type": "display_data"
    }
   ],
   "source": [
    "g = sns.FacetGrid(train_df, col='Survived',row='Pclass')\n",
    "g.map(plt.hist, 'Age', bins=30)"
   ]
  },
  {
   "cell_type": "code",
   "execution_count": 10,
   "id": "1f2fdc80",
   "metadata": {
    "execution": {
     "iopub.execute_input": "2021-11-22T10:24:27.943247Z",
     "iopub.status.busy": "2021-11-22T10:24:27.942587Z",
     "iopub.status.idle": "2021-11-22T10:24:28.211826Z",
     "shell.execute_reply": "2021-11-22T10:24:28.212646Z",
     "shell.execute_reply.started": "2021-11-22T10:23:56.411657Z"
    },
    "papermill": {
     "duration": 0.342067,
     "end_time": "2021-11-22T10:24:28.212902",
     "exception": false,
     "start_time": "2021-11-22T10:24:27.870835",
     "status": "completed"
    },
    "tags": []
   },
   "outputs": [
    {
     "name": "stdout",
     "output_type": "stream",
     "text": [
      "Percentage of Class 1 who survived: 62.96296296296296\n",
      "Percentage of Class 2 who survived: 47.28260869565217\n",
      "Percentage of Class 3 who survived: 24.236252545824847\n"
     ]
    },
    {
     "data": {
      "image/png": "[encoded data removed]",
      "text/plain": [
       "<Figure size 432x288 with 1 Axes>"
      ]
     },
     "metadata": {
      "needs_background": "light"
     },
     "output_type": "display_data"
    }
   ],
   "source": [
    "sns.barplot(x=\"Pclass\", y=\"Survived\",data=train_df,palette='rainbow')\n",
    "#print percentages of classes that survive\n",
    "print(\"Percentage of Class 1 who survived:\", train_df[\"Survived\"][train_df[\"Pclass\"] == 1].value_counts(normalize = True)[1]*100)\n",
    "print(\"Percentage of Class 2 who survived:\", train_df[\"Survived\"][train_df[\"Pclass\"] == 2].value_counts(normalize = True)[1]*100)\n",
    "print(\"Percentage of Class 3 who survived:\", train_df[\"Survived\"][train_df[\"Pclass\"] == 3].value_counts(normalize = True)[1]*100)"
   ]
  },
  {
   "cell_type": "markdown",
   "id": "d9b14730",
   "metadata": {
    "papermill": {
     "duration": 0.062396,
     "end_time": "2021-11-22T10:24:28.344103",
     "exception": false,
     "start_time": "2021-11-22T10:24:28.281707",
     "status": "completed"
    },
    "tags": []
   },
   "source": [
    "**Sex features**"
   ]
  },
  {
   "cell_type": "code",
   "execution_count": 11,
   "id": "cb0cd5df",
   "metadata": {
    "execution": {
     "iopub.execute_input": "2021-11-22T10:24:28.477156Z",
     "iopub.status.busy": "2021-11-22T10:24:28.476458Z",
     "iopub.status.idle": "2021-11-22T10:24:28.689297Z",
     "shell.execute_reply": "2021-11-22T10:24:28.688616Z",
     "shell.execute_reply.started": "2021-11-22T10:23:56.736892Z"
    },
    "papermill": {
     "duration": 0.28272,
     "end_time": "2021-11-22T10:24:28.689460",
     "exception": false,
     "start_time": "2021-11-22T10:24:28.406740",
     "status": "completed"
    },
    "tags": []
   },
   "outputs": [
    {
     "name": "stdout",
     "output_type": "stream",
     "text": [
      "Percentage of females who survived: 74.20382165605095\n",
      "Percentage of males who survived: 18.890814558058924\n"
     ]
    },
    {
     "data": {
      "image/png": "[encoded data removed]",
      "text/plain": [
       "<Figure size 432x288 with 1 Axes>"
      ]
     },
     "metadata": {
      "needs_background": "light"
     },
     "output_type": "display_data"
    }
   ],
   "source": [
    "sns.countplot(x='Survived',hue='Sex',data=train_df,palette='rainbow')\n",
    "#print percentages of females vs. males that survive\n",
    "print(\"Percentage of females who survived:\", train_df[\"Survived\"][train_df[\"Sex\"] == 'female'].value_counts(normalize = True)[1]*100)\n",
    "\n",
    "print(\"Percentage of males who survived:\", train_df[\"Survived\"][train_df[\"Sex\"] == 'male'].value_counts(normalize = True)[1]*100)"
   ]
  },
  {
   "cell_type": "markdown",
   "id": "0279e917",
   "metadata": {
    "papermill": {
     "duration": 0.064635,
     "end_time": "2021-11-22T10:24:28.818978",
     "exception": false,
     "start_time": "2021-11-22T10:24:28.754343",
     "status": "completed"
    },
    "tags": []
   },
   "source": [
    "**SibSp feature**"
   ]
  },
  {
   "cell_type": "code",
   "execution_count": 12,
   "id": "7cf7dc56",
   "metadata": {
    "execution": {
     "iopub.execute_input": "2021-11-22T10:24:28.952498Z",
     "iopub.status.busy": "2021-11-22T10:24:28.951773Z",
     "iopub.status.idle": "2021-11-22T10:24:28.966048Z",
     "shell.execute_reply": "2021-11-22T10:24:28.966561Z",
     "shell.execute_reply.started": "2021-11-22T10:23:56.911711Z"
    },
    "papermill": {
     "duration": 0.082605,
     "end_time": "2021-11-22T10:24:28.966741",
     "exception": false,
     "start_time": "2021-11-22T10:24:28.884136",
     "status": "completed"
    },
    "tags": []
   },
   "outputs": [
    {
     "data": {
      "text/html": [
       "<div>\n",
       "<style scoped>\n",
       "    .dataframe tbody tr th:only-of-type {\n",
       "        vertical-align: middle;\n",
       "    }\n",
       "\n",
       "    .dataframe tbody tr th {\n",
       "        vertical-align: top;\n",
       "    }\n",
       "\n",
       "    .dataframe thead th {\n",
       "        text-align: right;\n",
       "    }\n",
       "</style>\n",
       "<table border=\"1\" class=\"dataframe\">\n",
       "  <thead>\n",
       "    <tr style=\"text-align: right;\">\n",
       "      <th></th>\n",
       "      <th>Survived</th>\n",
       "    </tr>\n",
       "    <tr>\n",
       "      <th>SibSp</th>\n",
       "      <th></th>\n",
       "    </tr>\n",
       "  </thead>\n",
       "  <tbody>\n",
       "    <tr>\n",
       "      <th>1</th>\n",
       "      <td>0.535885</td>\n",
       "    </tr>\n",
       "    <tr>\n",
       "      <th>2</th>\n",
       "      <td>0.464286</td>\n",
       "    </tr>\n",
       "    <tr>\n",
       "      <th>0</th>\n",
       "      <td>0.345395</td>\n",
       "    </tr>\n",
       "    <tr>\n",
       "      <th>3</th>\n",
       "      <td>0.250000</td>\n",
       "    </tr>\n",
       "    <tr>\n",
       "      <th>4</th>\n",
       "      <td>0.166667</td>\n",
       "    </tr>\n",
       "    <tr>\n",
       "      <th>5</th>\n",
       "      <td>0.000000</td>\n",
       "    </tr>\n",
       "    <tr>\n",
       "      <th>8</th>\n",
       "      <td>0.000000</td>\n",
       "    </tr>\n",
       "  </tbody>\n",
       "</table>\n",
       "</div>"
      ],
      "text/plain": [
       "       Survived\n",
       "SibSp          \n",
       "1      0.535885\n",
       "2      0.464286\n",
       "0      0.345395\n",
       "3      0.250000\n",
       "4      0.166667\n",
       "5      0.000000\n",
       "8      0.000000"
      ]
     },
     "execution_count": 12,
     "metadata": {},
     "output_type": "execute_result"
    }
   ],
   "source": [
    "train_df[['SibSp','Survived']].groupby(by='SibSp').mean().sort_values(by='Survived',ascending=False)"
   ]
  },
  {
   "cell_type": "markdown",
   "id": "a0f7b340",
   "metadata": {
    "papermill": {
     "duration": 0.064758,
     "end_time": "2021-11-22T10:24:29.097109",
     "exception": false,
     "start_time": "2021-11-22T10:24:29.032351",
     "status": "completed"
    },
    "tags": []
   },
   "source": [
    "(SibSp=1) are the most likely to survive (53.6%)"
   ]
  },
  {
   "cell_type": "markdown",
   "id": "ebcddadd",
   "metadata": {
    "papermill": {
     "duration": 0.064197,
     "end_time": "2021-11-22T10:24:29.225898",
     "exception": false,
     "start_time": "2021-11-22T10:24:29.161701",
     "status": "completed"
    },
    "tags": []
   },
   "source": [
    "**Parch feature**"
   ]
  },
  {
   "cell_type": "code",
   "execution_count": 13,
   "id": "b799a7f9",
   "metadata": {
    "execution": {
     "iopub.execute_input": "2021-11-22T10:24:29.357242Z",
     "iopub.status.busy": "2021-11-22T10:24:29.356560Z",
     "iopub.status.idle": "2021-11-22T10:24:29.367387Z",
     "shell.execute_reply": "2021-11-22T10:24:29.367840Z",
     "shell.execute_reply.started": "2021-11-22T10:23:56.929976Z"
    },
    "papermill": {
     "duration": 0.078121,
     "end_time": "2021-11-22T10:24:29.368013",
     "exception": false,
     "start_time": "2021-11-22T10:24:29.289892",
     "status": "completed"
    },
    "tags": []
   },
   "outputs": [
    {
     "data": {
      "text/html": [
       "<div>\n",
       "<style scoped>\n",
       "    .dataframe tbody tr th:only-of-type {\n",
       "        vertical-align: middle;\n",
       "    }\n",
       "\n",
       "    .dataframe tbody tr th {\n",
       "        vertical-align: top;\n",
       "    }\n",
       "\n",
       "    .dataframe thead th {\n",
       "        text-align: right;\n",
       "    }\n",
       "</style>\n",
       "<table border=\"1\" class=\"dataframe\">\n",
       "  <thead>\n",
       "    <tr style=\"text-align: right;\">\n",
       "      <th></th>\n",
       "      <th>Survived</th>\n",
       "    </tr>\n",
       "    <tr>\n",
       "      <th>Parch</th>\n",
       "      <th></th>\n",
       "    </tr>\n",
       "  </thead>\n",
       "  <tbody>\n",
       "    <tr>\n",
       "      <th>3</th>\n",
       "      <td>0.600000</td>\n",
       "    </tr>\n",
       "    <tr>\n",
       "      <th>1</th>\n",
       "      <td>0.550847</td>\n",
       "    </tr>\n",
       "    <tr>\n",
       "      <th>2</th>\n",
       "      <td>0.500000</td>\n",
       "    </tr>\n",
       "    <tr>\n",
       "      <th>0</th>\n",
       "      <td>0.343658</td>\n",
       "    </tr>\n",
       "    <tr>\n",
       "      <th>5</th>\n",
       "      <td>0.200000</td>\n",
       "    </tr>\n",
       "    <tr>\n",
       "      <th>4</th>\n",
       "      <td>0.000000</td>\n",
       "    </tr>\n",
       "    <tr>\n",
       "      <th>6</th>\n",
       "      <td>0.000000</td>\n",
       "    </tr>\n",
       "  </tbody>\n",
       "</table>\n",
       "</div>"
      ],
      "text/plain": [
       "       Survived\n",
       "Parch          \n",
       "3      0.600000\n",
       "1      0.550847\n",
       "2      0.500000\n",
       "0      0.343658\n",
       "5      0.200000\n",
       "4      0.000000\n",
       "6      0.000000"
      ]
     },
     "execution_count": 13,
     "metadata": {},
     "output_type": "execute_result"
    }
   ],
   "source": [
    "train_df[['Parch','Survived']].groupby(by='Parch').mean().sort_values(by='Survived',ascending=False)"
   ]
  },
  {
   "cell_type": "markdown",
   "id": "7611582d",
   "metadata": {
    "papermill": {
     "duration": 0.064456,
     "end_time": "2021-11-22T10:24:29.497216",
     "exception": false,
     "start_time": "2021-11-22T10:24:29.432760",
     "status": "completed"
    },
    "tags": []
   },
   "source": [
    "(Parch=3) are the most likely to survive (60%)"
   ]
  },
  {
   "cell_type": "markdown",
   "id": "92077a63",
   "metadata": {
    "papermill": {
     "duration": 0.064261,
     "end_time": "2021-11-22T10:24:29.625812",
     "exception": false,
     "start_time": "2021-11-22T10:24:29.561551",
     "status": "completed"
    },
    "tags": []
   },
   "source": [
    "**Response to previous assumptions**\n",
    "* Sex: Womens(Sex=female) are more likely to survive.\n",
    "\n",
    "  Higly possible\n",
    "  \n",
    "* SibSp/Parch: People traveling alone are more likely to survive\n",
    "\n",
    "  Not really. (SibSp=1) & (Parch=3) are the most likely to survive\n",
    "  \n",
    "* Age: Young children are more likely to survive.\n",
    "\n",
    "  Possible. Young children in class 1 & 2 are rarely dead\n",
    "  \n",
    "* Pclass: The upper-class passengers (Pclass=1) are more likely to survive\n",
    "\n",
    "  The proportion of survivals in class 1 & 2 are more than that of class 3\n",
    "  \n",
    "**Sex,Pclass,Age features should be correlated to survivals.**\n"
   ]
  },
  {
   "cell_type": "markdown",
   "id": "abd2dd70",
   "metadata": {
    "papermill": {
     "duration": 0.063994,
     "end_time": "2021-11-22T10:24:29.753901",
     "exception": false,
     "start_time": "2021-11-22T10:24:29.689907",
     "status": "completed"
    },
    "tags": []
   },
   "source": [
    "# **Data Cleaning**"
   ]
  },
  {
   "cell_type": "markdown",
   "id": "011eccf2",
   "metadata": {
    "papermill": {
     "duration": 0.065094,
     "end_time": "2021-11-22T10:24:29.883484",
     "exception": false,
     "start_time": "2021-11-22T10:24:29.818390",
     "status": "completed"
    },
    "tags": []
   },
   "source": [
    "1. Missing value would be filled by imputation\n",
    "2. Sex and Embarked columns will be transformed into dummies variables\n",
    "3. Name could be transformed into new feature by extracting their titles\n",
    "4. Ticket and cabin will be dropped"
   ]
  },
  {
   "cell_type": "markdown",
   "id": "98f769d3",
   "metadata": {
    "papermill": {
     "duration": 0.065334,
     "end_time": "2021-11-22T10:24:30.013095",
     "exception": false,
     "start_time": "2021-11-22T10:24:29.947761",
     "status": "completed"
    },
    "tags": []
   },
   "source": [
    "**Age feature**\n",
    "\n",
    "missing values will be filled by the median of Age grouped by different classes"
   ]
  },
  {
   "cell_type": "code",
   "execution_count": 14,
   "id": "b97eed5c",
   "metadata": {
    "execution": {
     "iopub.execute_input": "2021-11-22T10:24:30.148421Z",
     "iopub.status.busy": "2021-11-22T10:24:30.146457Z",
     "iopub.status.idle": "2021-11-22T10:24:30.171762Z",
     "shell.execute_reply": "2021-11-22T10:24:30.172314Z",
     "shell.execute_reply.started": "2021-11-22T10:23:56.950452Z"
    },
    "papermill": {
     "duration": 0.094327,
     "end_time": "2021-11-22T10:24:30.172509",
     "exception": false,
     "start_time": "2021-11-22T10:24:30.078182",
     "status": "completed"
    },
    "tags": []
   },
   "outputs": [
    {
     "data": {
      "text/html": [
       "<div>\n",
       "<style scoped>\n",
       "    .dataframe tbody tr th:only-of-type {\n",
       "        vertical-align: middle;\n",
       "    }\n",
       "\n",
       "    .dataframe tbody tr th {\n",
       "        vertical-align: top;\n",
       "    }\n",
       "\n",
       "    .dataframe thead th {\n",
       "        text-align: right;\n",
       "    }\n",
       "</style>\n",
       "<table border=\"1\" class=\"dataframe\">\n",
       "  <thead>\n",
       "    <tr style=\"text-align: right;\">\n",
       "      <th></th>\n",
       "      <th>count</th>\n",
       "      <th>mean</th>\n",
       "      <th>std</th>\n",
       "      <th>min</th>\n",
       "      <th>25%</th>\n",
       "      <th>50%</th>\n",
       "      <th>75%</th>\n",
       "      <th>max</th>\n",
       "    </tr>\n",
       "    <tr>\n",
       "      <th>Pclass</th>\n",
       "      <th></th>\n",
       "      <th></th>\n",
       "      <th></th>\n",
       "      <th></th>\n",
       "      <th></th>\n",
       "      <th></th>\n",
       "      <th></th>\n",
       "      <th></th>\n",
       "    </tr>\n",
       "  </thead>\n",
       "  <tbody>\n",
       "    <tr>\n",
       "      <th>1</th>\n",
       "      <td>186.0</td>\n",
       "      <td>38.233441</td>\n",
       "      <td>14.802856</td>\n",
       "      <td>0.92</td>\n",
       "      <td>27.0</td>\n",
       "      <td>37.0</td>\n",
       "      <td>49.0</td>\n",
       "      <td>80.0</td>\n",
       "    </tr>\n",
       "    <tr>\n",
       "      <th>2</th>\n",
       "      <td>173.0</td>\n",
       "      <td>29.877630</td>\n",
       "      <td>14.001077</td>\n",
       "      <td>0.67</td>\n",
       "      <td>23.0</td>\n",
       "      <td>29.0</td>\n",
       "      <td>36.0</td>\n",
       "      <td>70.0</td>\n",
       "    </tr>\n",
       "    <tr>\n",
       "      <th>3</th>\n",
       "      <td>355.0</td>\n",
       "      <td>25.140620</td>\n",
       "      <td>12.495398</td>\n",
       "      <td>0.42</td>\n",
       "      <td>18.0</td>\n",
       "      <td>24.0</td>\n",
       "      <td>32.0</td>\n",
       "      <td>74.0</td>\n",
       "    </tr>\n",
       "  </tbody>\n",
       "</table>\n",
       "</div>"
      ],
      "text/plain": [
       "        count       mean        std   min   25%   50%   75%   max\n",
       "Pclass                                                           \n",
       "1       186.0  38.233441  14.802856  0.92  27.0  37.0  49.0  80.0\n",
       "2       173.0  29.877630  14.001077  0.67  23.0  29.0  36.0  70.0\n",
       "3       355.0  25.140620  12.495398  0.42  18.0  24.0  32.0  74.0"
      ]
     },
     "execution_count": 14,
     "metadata": {},
     "output_type": "execute_result"
    }
   ],
   "source": [
    "# look at the median of Age group by classes\n",
    "train_df.groupby('Pclass')['Age'].describe()"
   ]
  },
  {
   "cell_type": "code",
   "execution_count": 15,
   "id": "ee193247",
   "metadata": {
    "execution": {
     "iopub.execute_input": "2021-11-22T10:24:30.305818Z",
     "iopub.status.busy": "2021-11-22T10:24:30.304796Z",
     "iopub.status.idle": "2021-11-22T10:24:30.310052Z",
     "shell.execute_reply": "2021-11-22T10:24:30.310630Z",
     "shell.execute_reply.started": "2021-11-22T10:23:56.981092Z"
    },
    "papermill": {
     "duration": 0.073484,
     "end_time": "2021-11-22T10:24:30.310805",
     "exception": false,
     "start_time": "2021-11-22T10:24:30.237321",
     "status": "completed"
    },
    "tags": []
   },
   "outputs": [],
   "source": [
    "# set up a function to impute median of Age based on individual's Pclass\n",
    "def impute_age(cols):\n",
    "    Age = cols[0]\n",
    "    Pclass = cols[1]\n",
    "    \n",
    "    if pd.isnull(Age):\n",
    "        \n",
    "        if Pclass == 1:\n",
    "            return 37\n",
    "        \n",
    "        elif Pclass == 2:\n",
    "            return 29\n",
    "        \n",
    "        else:\n",
    "            return 24\n",
    "        \n",
    "    else:\n",
    "        return Age"
   ]
  },
  {
   "cell_type": "code",
   "execution_count": 16,
   "id": "61bee966",
   "metadata": {
    "execution": {
     "iopub.execute_input": "2021-11-22T10:24:30.446387Z",
     "iopub.status.busy": "2021-11-22T10:24:30.445397Z",
     "iopub.status.idle": "2021-11-22T10:24:30.466256Z",
     "shell.execute_reply": "2021-11-22T10:24:30.467022Z",
     "shell.execute_reply.started": "2021-11-22T10:23:56.991181Z"
    },
    "papermill": {
     "duration": 0.091511,
     "end_time": "2021-11-22T10:24:30.467213",
     "exception": false,
     "start_time": "2021-11-22T10:24:30.375702",
     "status": "completed"
    },
    "tags": []
   },
   "outputs": [],
   "source": [
    "train_df['Age'] = train_df[['Age','Pclass']].apply(impute_age,axis=1)"
   ]
  },
  {
   "cell_type": "markdown",
   "id": "e5de194a",
   "metadata": {
    "papermill": {
     "duration": 0.064178,
     "end_time": "2021-11-22T10:24:30.596414",
     "exception": false,
     "start_time": "2021-11-22T10:24:30.532236",
     "status": "completed"
    },
    "tags": []
   },
   "source": [
    "Clean up test_df using the same approach"
   ]
  },
  {
   "cell_type": "code",
   "execution_count": 17,
   "id": "3097bc84",
   "metadata": {
    "execution": {
     "iopub.execute_input": "2021-11-22T10:24:30.729000Z",
     "iopub.status.busy": "2021-11-22T10:24:30.728050Z",
     "iopub.status.idle": "2021-11-22T10:24:30.749656Z",
     "shell.execute_reply": "2021-11-22T10:24:30.750194Z",
     "shell.execute_reply.started": "2021-11-22T10:23:57.041061Z"
    },
    "papermill": {
     "duration": 0.089398,
     "end_time": "2021-11-22T10:24:30.750359",
     "exception": false,
     "start_time": "2021-11-22T10:24:30.660961",
     "status": "completed"
    },
    "tags": []
   },
   "outputs": [
    {
     "data": {
      "text/html": [
       "<div>\n",
       "<style scoped>\n",
       "    .dataframe tbody tr th:only-of-type {\n",
       "        vertical-align: middle;\n",
       "    }\n",
       "\n",
       "    .dataframe tbody tr th {\n",
       "        vertical-align: top;\n",
       "    }\n",
       "\n",
       "    .dataframe thead th {\n",
       "        text-align: right;\n",
       "    }\n",
       "</style>\n",
       "<table border=\"1\" class=\"dataframe\">\n",
       "  <thead>\n",
       "    <tr style=\"text-align: right;\">\n",
       "      <th></th>\n",
       "      <th>count</th>\n",
       "      <th>mean</th>\n",
       "      <th>std</th>\n",
       "      <th>min</th>\n",
       "      <th>25%</th>\n",
       "      <th>50%</th>\n",
       "      <th>75%</th>\n",
       "      <th>max</th>\n",
       "    </tr>\n",
       "    <tr>\n",
       "      <th>Pclass</th>\n",
       "      <th></th>\n",
       "      <th></th>\n",
       "      <th></th>\n",
       "      <th></th>\n",
       "      <th></th>\n",
       "      <th></th>\n",
       "      <th></th>\n",
       "      <th></th>\n",
       "    </tr>\n",
       "  </thead>\n",
       "  <tbody>\n",
       "    <tr>\n",
       "      <th>1</th>\n",
       "      <td>98.0</td>\n",
       "      <td>40.918367</td>\n",
       "      <td>13.956799</td>\n",
       "      <td>6.00</td>\n",
       "      <td>30.0</td>\n",
       "      <td>42.0</td>\n",
       "      <td>50.75</td>\n",
       "      <td>76.0</td>\n",
       "    </tr>\n",
       "    <tr>\n",
       "      <th>2</th>\n",
       "      <td>88.0</td>\n",
       "      <td>28.777500</td>\n",
       "      <td>12.943458</td>\n",
       "      <td>0.92</td>\n",
       "      <td>21.0</td>\n",
       "      <td>26.5</td>\n",
       "      <td>35.25</td>\n",
       "      <td>63.0</td>\n",
       "    </tr>\n",
       "    <tr>\n",
       "      <th>3</th>\n",
       "      <td>146.0</td>\n",
       "      <td>24.027945</td>\n",
       "      <td>10.537105</td>\n",
       "      <td>0.17</td>\n",
       "      <td>18.5</td>\n",
       "      <td>24.0</td>\n",
       "      <td>29.75</td>\n",
       "      <td>60.5</td>\n",
       "    </tr>\n",
       "  </tbody>\n",
       "</table>\n",
       "</div>"
      ],
      "text/plain": [
       "        count       mean        std   min   25%   50%    75%   max\n",
       "Pclass                                                            \n",
       "1        98.0  40.918367  13.956799  6.00  30.0  42.0  50.75  76.0\n",
       "2        88.0  28.777500  12.943458  0.92  21.0  26.5  35.25  63.0\n",
       "3       146.0  24.027945  10.537105  0.17  18.5  24.0  29.75  60.5"
      ]
     },
     "execution_count": 17,
     "metadata": {},
     "output_type": "execute_result"
    }
   ],
   "source": [
    "test_df.groupby('Pclass')['Age'].describe()"
   ]
  },
  {
   "cell_type": "code",
   "execution_count": 18,
   "id": "6c00440a",
   "metadata": {
    "execution": {
     "iopub.execute_input": "2021-11-22T10:24:30.884679Z",
     "iopub.status.busy": "2021-11-22T10:24:30.883968Z",
     "iopub.status.idle": "2021-11-22T10:24:30.889068Z",
     "shell.execute_reply": "2021-11-22T10:24:30.889633Z",
     "shell.execute_reply.started": "2021-11-22T10:23:57.069544Z"
    },
    "papermill": {
     "duration": 0.073834,
     "end_time": "2021-11-22T10:24:30.889815",
     "exception": false,
     "start_time": "2021-11-22T10:24:30.815981",
     "status": "completed"
    },
    "tags": []
   },
   "outputs": [],
   "source": [
    "def impute_age_test(cols):\n",
    "    Age = cols[0]\n",
    "    Pclass = cols[1]\n",
    "    \n",
    "    if pd.isnull(Age):\n",
    "        \n",
    "        if Pclass == 1:\n",
    "            return 42\n",
    "        \n",
    "        elif Pclass == 2:\n",
    "            return 26.5\n",
    "        \n",
    "        else:\n",
    "            return 24\n",
    "        \n",
    "    else:\n",
    "        return Age"
   ]
  },
  {
   "cell_type": "code",
   "execution_count": 19,
   "id": "b16244a1",
   "metadata": {
    "execution": {
     "iopub.execute_input": "2021-11-22T10:24:31.034404Z",
     "iopub.status.busy": "2021-11-22T10:24:31.025832Z",
     "iopub.status.idle": "2021-11-22T10:24:31.040350Z",
     "shell.execute_reply": "2021-11-22T10:24:31.039836Z",
     "shell.execute_reply.started": "2021-11-22T10:23:57.081105Z"
    },
    "papermill": {
     "duration": 0.083725,
     "end_time": "2021-11-22T10:24:31.040537",
     "exception": false,
     "start_time": "2021-11-22T10:24:30.956812",
     "status": "completed"
    },
    "tags": []
   },
   "outputs": [],
   "source": [
    "test_df['Age'] = test_df[['Age','Pclass']].apply(impute_age_test,axis=1)"
   ]
  },
  {
   "cell_type": "code",
   "execution_count": 20,
   "id": "d20a05a6",
   "metadata": {
    "execution": {
     "iopub.execute_input": "2021-11-22T10:24:31.181153Z",
     "iopub.status.busy": "2021-11-22T10:24:31.180508Z",
     "iopub.status.idle": "2021-11-22T10:24:31.183961Z",
     "shell.execute_reply": "2021-11-22T10:24:31.183249Z",
     "shell.execute_reply.started": "2021-11-22T10:23:57.101196Z"
    },
    "papermill": {
     "duration": 0.077844,
     "end_time": "2021-11-22T10:24:31.184104",
     "exception": false,
     "start_time": "2021-11-22T10:24:31.106260",
     "status": "completed"
    },
    "tags": []
   },
   "outputs": [
    {
     "name": "stdout",
     "output_type": "stream",
     "text": [
      "PassengerId      0\n",
      "Survived         0\n",
      "Pclass           0\n",
      "Name             0\n",
      "Sex              0\n",
      "Age              0\n",
      "SibSp            0\n",
      "Parch            0\n",
      "Ticket           0\n",
      "Fare             0\n",
      "Cabin          687\n",
      "Embarked         2\n",
      "dtype: int64\n"
     ]
    }
   ],
   "source": [
    "print(pd.isnull(train_df).sum())"
   ]
  },
  {
   "cell_type": "code",
   "execution_count": 21,
   "id": "283e8a98",
   "metadata": {
    "execution": {
     "iopub.execute_input": "2021-11-22T10:24:31.322896Z",
     "iopub.status.busy": "2021-11-22T10:24:31.322146Z",
     "iopub.status.idle": "2021-11-22T10:24:31.326261Z",
     "shell.execute_reply": "2021-11-22T10:24:31.326984Z",
     "shell.execute_reply.started": "2021-11-22T10:23:57.111805Z"
    },
    "papermill": {
     "duration": 0.07734,
     "end_time": "2021-11-22T10:24:31.327212",
     "exception": false,
     "start_time": "2021-11-22T10:24:31.249872",
     "status": "completed"
    },
    "tags": []
   },
   "outputs": [
    {
     "name": "stdout",
     "output_type": "stream",
     "text": [
      "PassengerId      0\n",
      "Pclass           0\n",
      "Name             0\n",
      "Sex              0\n",
      "Age              0\n",
      "SibSp            0\n",
      "Parch            0\n",
      "Ticket           0\n",
      "Fare             1\n",
      "Cabin          327\n",
      "Embarked         0\n",
      "dtype: int64\n"
     ]
    }
   ],
   "source": [
    "print(pd.isnull(test_df).sum())"
   ]
  },
  {
   "cell_type": "markdown",
   "id": "6b68d675",
   "metadata": {
    "papermill": {
     "duration": 0.065673,
     "end_time": "2021-11-22T10:24:31.459851",
     "exception": false,
     "start_time": "2021-11-22T10:24:31.394178",
     "status": "completed"
    },
    "tags": []
   },
   "source": [
    "**Fare feature**\n",
    "\n",
    "1 missing value will be filled with the mean of the fare"
   ]
  },
  {
   "cell_type": "code",
   "execution_count": 22,
   "id": "c9c02df4",
   "metadata": {
    "execution": {
     "iopub.execute_input": "2021-11-22T10:24:31.595071Z",
     "iopub.status.busy": "2021-11-22T10:24:31.594456Z",
     "iopub.status.idle": "2021-11-22T10:24:31.598980Z",
     "shell.execute_reply": "2021-11-22T10:24:31.599545Z",
     "shell.execute_reply.started": "2021-11-22T10:23:57.122893Z"
    },
    "papermill": {
     "duration": 0.073735,
     "end_time": "2021-11-22T10:24:31.599724",
     "exception": false,
     "start_time": "2021-11-22T10:24:31.525989",
     "status": "completed"
    },
    "tags": []
   },
   "outputs": [],
   "source": [
    "# fill na value in Fare with the mean\n",
    "test_df['Fare'].fillna(test_df['Fare'].mean(),inplace=True)"
   ]
  },
  {
   "cell_type": "markdown",
   "id": "40237207",
   "metadata": {
    "papermill": {
     "duration": 0.06532,
     "end_time": "2021-11-22T10:24:31.730800",
     "exception": false,
     "start_time": "2021-11-22T10:24:31.665480",
     "status": "completed"
    },
    "tags": []
   },
   "source": [
    "**Drop Cabin and Ticket Column**"
   ]
  },
  {
   "cell_type": "code",
   "execution_count": 23,
   "id": "26b91998",
   "metadata": {
    "execution": {
     "iopub.execute_input": "2021-11-22T10:24:31.864939Z",
     "iopub.status.busy": "2021-11-22T10:24:31.864313Z",
     "iopub.status.idle": "2021-11-22T10:24:31.870026Z",
     "shell.execute_reply": "2021-11-22T10:24:31.870510Z",
     "shell.execute_reply.started": "2021-11-22T10:23:57.134526Z"
    },
    "papermill": {
     "duration": 0.074466,
     "end_time": "2021-11-22T10:24:31.870682",
     "exception": false,
     "start_time": "2021-11-22T10:24:31.796216",
     "status": "completed"
    },
    "tags": []
   },
   "outputs": [],
   "source": [
    "train_df.drop(['Cabin','Ticket'],axis=1,inplace=True)\n",
    "test_df.drop(['Cabin','Ticket'],axis=1,inplace=True)"
   ]
  },
  {
   "cell_type": "code",
   "execution_count": 24,
   "id": "6f2bb9c6",
   "metadata": {
    "execution": {
     "iopub.execute_input": "2021-11-22T10:24:32.007315Z",
     "iopub.status.busy": "2021-11-22T10:24:32.006650Z",
     "iopub.status.idle": "2021-11-22T10:24:32.014272Z",
     "shell.execute_reply": "2021-11-22T10:24:32.014828Z",
     "shell.execute_reply.started": "2021-11-22T10:23:57.149441Z"
    },
    "papermill": {
     "duration": 0.078052,
     "end_time": "2021-11-22T10:24:32.015021",
     "exception": false,
     "start_time": "2021-11-22T10:24:31.936969",
     "status": "completed"
    },
    "tags": []
   },
   "outputs": [
    {
     "name": "stdout",
     "output_type": "stream",
     "text": [
      "PassengerId    0\n",
      "Survived       0\n",
      "Pclass         0\n",
      "Name           0\n",
      "Sex            0\n",
      "Age            0\n",
      "SibSp          0\n",
      "Parch          0\n",
      "Fare           0\n",
      "Embarked       2\n",
      "dtype: int64\n"
     ]
    }
   ],
   "source": [
    "print(pd.isnull(train_df).sum())"
   ]
  },
  {
   "cell_type": "markdown",
   "id": "139eaf9a",
   "metadata": {
    "papermill": {
     "duration": 0.066361,
     "end_time": "2021-11-22T10:24:32.148272",
     "exception": false,
     "start_time": "2021-11-22T10:24:32.081911",
     "status": "completed"
    },
    "tags": []
   },
   "source": [
    "**Sex and Embarked features**"
   ]
  },
  {
   "cell_type": "code",
   "execution_count": 25,
   "id": "73555f3e",
   "metadata": {
    "execution": {
     "iopub.execute_input": "2021-11-22T10:24:32.284160Z",
     "iopub.status.busy": "2021-11-22T10:24:32.283499Z",
     "iopub.status.idle": "2021-11-22T10:24:32.289786Z",
     "shell.execute_reply": "2021-11-22T10:24:32.290338Z",
     "shell.execute_reply.started": "2021-11-22T10:23:57.165532Z"
    },
    "papermill": {
     "duration": 0.076188,
     "end_time": "2021-11-22T10:24:32.290533",
     "exception": false,
     "start_time": "2021-11-22T10:24:32.214345",
     "status": "completed"
    },
    "tags": []
   },
   "outputs": [],
   "source": [
    "# only 2 missing value in Embarked and it is categorical data so I simply drop it\n",
    "train_df.dropna(inplace=True)"
   ]
  },
  {
   "cell_type": "code",
   "execution_count": 26,
   "id": "a653fc49",
   "metadata": {
    "execution": {
     "iopub.execute_input": "2021-11-22T10:24:32.428816Z",
     "iopub.status.busy": "2021-11-22T10:24:32.427012Z",
     "iopub.status.idle": "2021-11-22T10:24:32.440327Z",
     "shell.execute_reply": "2021-11-22T10:24:32.439760Z",
     "shell.execute_reply.started": "2021-11-22T10:23:57.175818Z"
    },
    "papermill": {
     "duration": 0.083669,
     "end_time": "2021-11-22T10:24:32.440486",
     "exception": false,
     "start_time": "2021-11-22T10:24:32.356817",
     "status": "completed"
    },
    "tags": []
   },
   "outputs": [
    {
     "name": "stdout",
     "output_type": "stream",
     "text": [
      "<class 'pandas.core.frame.DataFrame'>\n",
      "Int64Index: 889 entries, 0 to 890\n",
      "Data columns (total 10 columns):\n",
      " #   Column       Non-Null Count  Dtype  \n",
      "---  ------       --------------  -----  \n",
      " 0   PassengerId  889 non-null    int64  \n",
      " 1   Survived     889 non-null    int64  \n",
      " 2   Pclass       889 non-null    int64  \n",
      " 3   Name         889 non-null    object \n",
      " 4   Sex          889 non-null    object \n",
      " 5   Age          889 non-null    float64\n",
      " 6   SibSp        889 non-null    int64  \n",
      " 7   Parch        889 non-null    int64  \n",
      " 8   Fare         889 non-null    float64\n",
      " 9   Embarked     889 non-null    object \n",
      "dtypes: float64(2), int64(5), object(3)\n",
      "memory usage: 76.4+ KB\n"
     ]
    }
   ],
   "source": [
    "train_df.info()"
   ]
  },
  {
   "cell_type": "code",
   "execution_count": 27,
   "id": "5fef34c5",
   "metadata": {
    "execution": {
     "iopub.execute_input": "2021-11-22T10:24:32.581588Z",
     "iopub.status.busy": "2021-11-22T10:24:32.580875Z",
     "iopub.status.idle": "2021-11-22T10:24:32.587519Z",
     "shell.execute_reply": "2021-11-22T10:24:32.586847Z",
     "shell.execute_reply.started": "2021-11-22T10:23:57.196481Z"
    },
    "papermill": {
     "duration": 0.080232,
     "end_time": "2021-11-22T10:24:32.587665",
     "exception": false,
     "start_time": "2021-11-22T10:24:32.507433",
     "status": "completed"
    },
    "tags": []
   },
   "outputs": [],
   "source": [
    "# transform the categorical data into dummies variables\n",
    "train_sex = pd.get_dummies(train_df['Sex'],drop_first=True,dtype='int64')\n",
    "train_embark = pd.get_dummies(train_df['Embarked'],drop_first=True,dtype='int64')\n",
    "test_sex = pd.get_dummies(test_df['Sex'],drop_first=True,dtype='int64')\n",
    "test_embark = pd.get_dummies(test_df['Embarked'],drop_first=True,dtype='int64')"
   ]
  },
  {
   "cell_type": "code",
   "execution_count": 28,
   "id": "1bf3e1aa",
   "metadata": {
    "execution": {
     "iopub.execute_input": "2021-11-22T10:24:32.723697Z",
     "iopub.status.busy": "2021-11-22T10:24:32.723055Z",
     "iopub.status.idle": "2021-11-22T10:24:32.728792Z",
     "shell.execute_reply": "2021-11-22T10:24:32.729284Z",
     "shell.execute_reply.started": "2021-11-22T10:23:57.207256Z"
    },
    "papermill": {
     "duration": 0.075089,
     "end_time": "2021-11-22T10:24:32.729469",
     "exception": false,
     "start_time": "2021-11-22T10:24:32.654380",
     "status": "completed"
    },
    "tags": []
   },
   "outputs": [],
   "source": [
    "# delete the original sex and embarked columns\n",
    "train_df.drop(['Sex','Embarked'],axis=1,inplace=True)\n",
    "test_df.drop(['Sex','Embarked'],axis=1,inplace=True)"
   ]
  },
  {
   "cell_type": "code",
   "execution_count": 29,
   "id": "df417c63",
   "metadata": {
    "execution": {
     "iopub.execute_input": "2021-11-22T10:24:32.871308Z",
     "iopub.status.busy": "2021-11-22T10:24:32.870645Z",
     "iopub.status.idle": "2021-11-22T10:24:32.873108Z",
     "shell.execute_reply": "2021-11-22T10:24:32.872617Z",
     "shell.execute_reply.started": "2021-11-22T10:23:57.220808Z"
    },
    "papermill": {
     "duration": 0.077088,
     "end_time": "2021-11-22T10:24:32.873253",
     "exception": false,
     "start_time": "2021-11-22T10:24:32.796165",
     "status": "completed"
    },
    "tags": []
   },
   "outputs": [],
   "source": [
    "# Update the dataframe\n",
    "train_df = pd.concat([train_df,train_sex,train_embark],axis=1)\n",
    "test_df = pd.concat([test_df,test_sex,test_embark],axis=1)"
   ]
  },
  {
   "cell_type": "code",
   "execution_count": 30,
   "id": "9f406288",
   "metadata": {
    "execution": {
     "iopub.execute_input": "2021-11-22T10:24:33.014328Z",
     "iopub.status.busy": "2021-11-22T10:24:33.013658Z",
     "iopub.status.idle": "2021-11-22T10:24:33.027211Z",
     "shell.execute_reply": "2021-11-22T10:24:33.026529Z",
     "shell.execute_reply.started": "2021-11-22T10:23:57.235154Z"
    },
    "papermill": {
     "duration": 0.08722,
     "end_time": "2021-11-22T10:24:33.027381",
     "exception": false,
     "start_time": "2021-11-22T10:24:32.940161",
     "status": "completed"
    },
    "tags": []
   },
   "outputs": [
    {
     "name": "stdout",
     "output_type": "stream",
     "text": [
      "<class 'pandas.core.frame.DataFrame'>\n",
      "Int64Index: 889 entries, 0 to 890\n",
      "Data columns (total 11 columns):\n",
      " #   Column       Non-Null Count  Dtype  \n",
      "---  ------       --------------  -----  \n",
      " 0   PassengerId  889 non-null    int64  \n",
      " 1   Survived     889 non-null    int64  \n",
      " 2   Pclass       889 non-null    int64  \n",
      " 3   Name         889 non-null    object \n",
      " 4   Age          889 non-null    float64\n",
      " 5   SibSp        889 non-null    int64  \n",
      " 6   Parch        889 non-null    int64  \n",
      " 7   Fare         889 non-null    float64\n",
      " 8   male         889 non-null    int64  \n",
      " 9   Q            889 non-null    int64  \n",
      " 10  S            889 non-null    int64  \n",
      "dtypes: float64(2), int64(8), object(1)\n",
      "memory usage: 83.3+ KB\n"
     ]
    }
   ],
   "source": [
    "train_df.info()"
   ]
  },
  {
   "cell_type": "markdown",
   "id": "5e5fe868",
   "metadata": {
    "papermill": {
     "duration": 0.06775,
     "end_time": "2021-11-22T10:24:33.163923",
     "exception": false,
     "start_time": "2021-11-22T10:24:33.096173",
     "status": "completed"
    },
    "tags": []
   },
   "source": [
    "**Title features**"
   ]
  },
  {
   "cell_type": "code",
   "execution_count": 31,
   "id": "bf5c511a",
   "metadata": {
    "execution": {
     "iopub.execute_input": "2021-11-22T10:24:33.315412Z",
     "iopub.status.busy": "2021-11-22T10:24:33.311044Z",
     "iopub.status.idle": "2021-11-22T10:24:33.331213Z",
     "shell.execute_reply": "2021-11-22T10:24:33.331824Z",
     "shell.execute_reply.started": "2021-11-22T10:23:57.252595Z"
    },
    "papermill": {
     "duration": 0.100796,
     "end_time": "2021-11-22T10:24:33.332003",
     "exception": false,
     "start_time": "2021-11-22T10:24:33.231207",
     "status": "completed"
    },
    "tags": []
   },
   "outputs": [
    {
     "data": {
      "text/html": [
       "<div>\n",
       "<style scoped>\n",
       "    .dataframe tbody tr th:only-of-type {\n",
       "        vertical-align: middle;\n",
       "    }\n",
       "\n",
       "    .dataframe tbody tr th {\n",
       "        vertical-align: top;\n",
       "    }\n",
       "\n",
       "    .dataframe thead th {\n",
       "        text-align: right;\n",
       "    }\n",
       "</style>\n",
       "<table border=\"1\" class=\"dataframe\">\n",
       "  <thead>\n",
       "    <tr style=\"text-align: right;\">\n",
       "      <th>male</th>\n",
       "      <th>0</th>\n",
       "      <th>1</th>\n",
       "    </tr>\n",
       "    <tr>\n",
       "      <th>Title</th>\n",
       "      <th></th>\n",
       "      <th></th>\n",
       "    </tr>\n",
       "  </thead>\n",
       "  <tbody>\n",
       "    <tr>\n",
       "      <th>Capt</th>\n",
       "      <td>0</td>\n",
       "      <td>1</td>\n",
       "    </tr>\n",
       "    <tr>\n",
       "      <th>Col</th>\n",
       "      <td>0</td>\n",
       "      <td>2</td>\n",
       "    </tr>\n",
       "    <tr>\n",
       "      <th>Countess</th>\n",
       "      <td>1</td>\n",
       "      <td>0</td>\n",
       "    </tr>\n",
       "    <tr>\n",
       "      <th>Don</th>\n",
       "      <td>0</td>\n",
       "      <td>1</td>\n",
       "    </tr>\n",
       "    <tr>\n",
       "      <th>Dr</th>\n",
       "      <td>1</td>\n",
       "      <td>6</td>\n",
       "    </tr>\n",
       "    <tr>\n",
       "      <th>Jonkheer</th>\n",
       "      <td>0</td>\n",
       "      <td>1</td>\n",
       "    </tr>\n",
       "    <tr>\n",
       "      <th>Lady</th>\n",
       "      <td>1</td>\n",
       "      <td>0</td>\n",
       "    </tr>\n",
       "    <tr>\n",
       "      <th>Major</th>\n",
       "      <td>0</td>\n",
       "      <td>2</td>\n",
       "    </tr>\n",
       "    <tr>\n",
       "      <th>Master</th>\n",
       "      <td>0</td>\n",
       "      <td>40</td>\n",
       "    </tr>\n",
       "    <tr>\n",
       "      <th>Miss</th>\n",
       "      <td>181</td>\n",
       "      <td>0</td>\n",
       "    </tr>\n",
       "    <tr>\n",
       "      <th>Mlle</th>\n",
       "      <td>2</td>\n",
       "      <td>0</td>\n",
       "    </tr>\n",
       "    <tr>\n",
       "      <th>Mme</th>\n",
       "      <td>1</td>\n",
       "      <td>0</td>\n",
       "    </tr>\n",
       "    <tr>\n",
       "      <th>Mr</th>\n",
       "      <td>0</td>\n",
       "      <td>517</td>\n",
       "    </tr>\n",
       "    <tr>\n",
       "      <th>Mrs</th>\n",
       "      <td>124</td>\n",
       "      <td>0</td>\n",
       "    </tr>\n",
       "    <tr>\n",
       "      <th>Ms</th>\n",
       "      <td>1</td>\n",
       "      <td>0</td>\n",
       "    </tr>\n",
       "    <tr>\n",
       "      <th>Rev</th>\n",
       "      <td>0</td>\n",
       "      <td>6</td>\n",
       "    </tr>\n",
       "    <tr>\n",
       "      <th>Sir</th>\n",
       "      <td>0</td>\n",
       "      <td>1</td>\n",
       "    </tr>\n",
       "  </tbody>\n",
       "</table>\n",
       "</div>"
      ],
      "text/plain": [
       "male        0    1\n",
       "Title             \n",
       "Capt        0    1\n",
       "Col         0    2\n",
       "Countess    1    0\n",
       "Don         0    1\n",
       "Dr          1    6\n",
       "Jonkheer    0    1\n",
       "Lady        1    0\n",
       "Major       0    2\n",
       "Master      0   40\n",
       "Miss      181    0\n",
       "Mlle        2    0\n",
       "Mme         1    0\n",
       "Mr          0  517\n",
       "Mrs       124    0\n",
       "Ms          1    0\n",
       "Rev         0    6\n",
       "Sir         0    1"
      ]
     },
     "execution_count": 31,
     "metadata": {},
     "output_type": "execute_result"
    }
   ],
   "source": [
    "#create a combined group\n",
    "combine = [train_df, test_df]\n",
    "\n",
    "#extract a title for each Name in the train and test datasets\n",
    "for dataset in combine:\n",
    "    dataset['Title'] = dataset.Name.str.extract(' ([A-Za-z]+)\\.', expand=False)\n",
    "\n",
    "pd.crosstab(train_df['Title'], train_df['male'])"
   ]
  },
  {
   "cell_type": "code",
   "execution_count": 32,
   "id": "584a90fb",
   "metadata": {
    "execution": {
     "iopub.execute_input": "2021-11-22T10:24:33.475057Z",
     "iopub.status.busy": "2021-11-22T10:24:33.473961Z",
     "iopub.status.idle": "2021-11-22T10:24:33.498297Z",
     "shell.execute_reply": "2021-11-22T10:24:33.497494Z",
     "shell.execute_reply.started": "2021-11-22T10:23:57.286561Z"
    },
    "papermill": {
     "duration": 0.0977,
     "end_time": "2021-11-22T10:24:33.498516",
     "exception": false,
     "start_time": "2021-11-22T10:24:33.400816",
     "status": "completed"
    },
    "tags": []
   },
   "outputs": [
    {
     "data": {
      "text/html": [
       "<div>\n",
       "<style scoped>\n",
       "    .dataframe tbody tr th:only-of-type {\n",
       "        vertical-align: middle;\n",
       "    }\n",
       "\n",
       "    .dataframe tbody tr th {\n",
       "        vertical-align: top;\n",
       "    }\n",
       "\n",
       "    .dataframe thead th {\n",
       "        text-align: right;\n",
       "    }\n",
       "</style>\n",
       "<table border=\"1\" class=\"dataframe\">\n",
       "  <thead>\n",
       "    <tr style=\"text-align: right;\">\n",
       "      <th></th>\n",
       "      <th>Title</th>\n",
       "      <th>Survived</th>\n",
       "    </tr>\n",
       "  </thead>\n",
       "  <tbody>\n",
       "    <tr>\n",
       "      <th>0</th>\n",
       "      <td>Master</td>\n",
       "      <td>0.575000</td>\n",
       "    </tr>\n",
       "    <tr>\n",
       "      <th>1</th>\n",
       "      <td>Miss</td>\n",
       "      <td>0.701087</td>\n",
       "    </tr>\n",
       "    <tr>\n",
       "      <th>2</th>\n",
       "      <td>Mr</td>\n",
       "      <td>0.156673</td>\n",
       "    </tr>\n",
       "    <tr>\n",
       "      <th>3</th>\n",
       "      <td>Mrs</td>\n",
       "      <td>0.792000</td>\n",
       "    </tr>\n",
       "    <tr>\n",
       "      <th>4</th>\n",
       "      <td>Rare</td>\n",
       "      <td>0.347826</td>\n",
       "    </tr>\n",
       "  </tbody>\n",
       "</table>\n",
       "</div>"
      ],
      "text/plain": [
       "    Title  Survived\n",
       "0  Master  0.575000\n",
       "1    Miss  0.701087\n",
       "2      Mr  0.156673\n",
       "3     Mrs  0.792000\n",
       "4    Rare  0.347826"
      ]
     },
     "execution_count": 32,
     "metadata": {},
     "output_type": "execute_result"
    }
   ],
   "source": [
    "for dataset in combine:\n",
    "    dataset['Title'] = dataset['Title'].replace(['Lady', 'Countess','Capt', 'Col',\\\n",
    " \t'Don', 'Dr', 'Major', 'Rev', 'Sir', 'Jonkheer', 'Dona'], 'Rare')\n",
    "\n",
    "    dataset['Title'] = dataset['Title'].replace('Mlle', 'Miss')\n",
    "    dataset['Title'] = dataset['Title'].replace('Ms', 'Miss')\n",
    "    dataset['Title'] = dataset['Title'].replace('Mme', 'Mrs')\n",
    "    \n",
    "train_df[['Title', 'Survived']].groupby(['Title'], as_index=False).mean()"
   ]
  },
  {
   "cell_type": "code",
   "execution_count": 33,
   "id": "d96cc721",
   "metadata": {
    "execution": {
     "iopub.execute_input": "2021-11-22T10:24:33.653143Z",
     "iopub.status.busy": "2021-11-22T10:24:33.652511Z",
     "iopub.status.idle": "2021-11-22T10:24:33.660170Z",
     "shell.execute_reply": "2021-11-22T10:24:33.660662Z",
     "shell.execute_reply.started": "2021-11-22T10:23:57.313038Z"
    },
    "papermill": {
     "duration": 0.079071,
     "end_time": "2021-11-22T10:24:33.660844",
     "exception": false,
     "start_time": "2021-11-22T10:24:33.581773",
     "status": "completed"
    },
    "tags": []
   },
   "outputs": [],
   "source": [
    "title_mapping = {\"Mr\": 1, \"Miss\": 2, \"Mrs\": 3, \"Master\": 4, \"Rare\": 5}\n",
    "for dataset in combine:\n",
    "    dataset['Title'] = dataset['Title'].map(title_mapping)\n",
    "    dataset['Title'] = dataset['Title'].fillna(0)"
   ]
  },
  {
   "cell_type": "code",
   "execution_count": 34,
   "id": "56dac11a",
   "metadata": {
    "execution": {
     "iopub.execute_input": "2021-11-22T10:24:33.811280Z",
     "iopub.status.busy": "2021-11-22T10:24:33.803998Z",
     "iopub.status.idle": "2021-11-22T10:24:33.813882Z",
     "shell.execute_reply": "2021-11-22T10:24:33.814442Z",
     "shell.execute_reply.started": "2021-11-22T10:23:57.324750Z"
    },
    "papermill": {
     "duration": 0.08575,
     "end_time": "2021-11-22T10:24:33.814626",
     "exception": false,
     "start_time": "2021-11-22T10:24:33.728876",
     "status": "completed"
    },
    "tags": []
   },
   "outputs": [
    {
     "name": "stdout",
     "output_type": "stream",
     "text": [
      "<class 'pandas.core.frame.DataFrame'>\n",
      "Int64Index: 889 entries, 0 to 890\n",
      "Data columns (total 12 columns):\n",
      " #   Column       Non-Null Count  Dtype  \n",
      "---  ------       --------------  -----  \n",
      " 0   PassengerId  889 non-null    int64  \n",
      " 1   Survived     889 non-null    int64  \n",
      " 2   Pclass       889 non-null    int64  \n",
      " 3   Name         889 non-null    object \n",
      " 4   Age          889 non-null    float64\n",
      " 5   SibSp        889 non-null    int64  \n",
      " 6   Parch        889 non-null    int64  \n",
      " 7   Fare         889 non-null    float64\n",
      " 8   male         889 non-null    int64  \n",
      " 9   Q            889 non-null    int64  \n",
      " 10  S            889 non-null    int64  \n",
      " 11  Title        889 non-null    int64  \n",
      "dtypes: float64(2), int64(9), object(1)\n",
      "memory usage: 90.3+ KB\n"
     ]
    }
   ],
   "source": [
    "train_df.info()"
   ]
  },
  {
   "cell_type": "code",
   "execution_count": 35,
   "id": "62a39c43",
   "metadata": {
    "execution": {
     "iopub.execute_input": "2021-11-22T10:24:33.960038Z",
     "iopub.status.busy": "2021-11-22T10:24:33.958430Z",
     "iopub.status.idle": "2021-11-22T10:24:33.964007Z",
     "shell.execute_reply": "2021-11-22T10:24:33.963455Z",
     "shell.execute_reply.started": "2021-11-22T10:23:57.347386Z"
    },
    "papermill": {
     "duration": 0.081316,
     "end_time": "2021-11-22T10:24:33.964163",
     "exception": false,
     "start_time": "2021-11-22T10:24:33.882847",
     "status": "completed"
    },
    "tags": []
   },
   "outputs": [],
   "source": [
    "# Drop the orginal column\n",
    "train_df.drop('Name',axis=1,inplace=True)\n",
    "test_df.drop('Name',axis=1,inplace=True)"
   ]
  },
  {
   "cell_type": "markdown",
   "id": "443f7416",
   "metadata": {
    "papermill": {
     "duration": 0.06922,
     "end_time": "2021-11-22T10:24:34.101960",
     "exception": false,
     "start_time": "2021-11-22T10:24:34.032740",
     "status": "completed"
    },
    "tags": []
   },
   "source": [
    "# **Building model**"
   ]
  },
  {
   "cell_type": "markdown",
   "id": "c14c6f98",
   "metadata": {
    "papermill": {
     "duration": 0.068526,
     "end_time": "2021-11-22T10:24:34.239688",
     "exception": false,
     "start_time": "2021-11-22T10:24:34.171162",
     "status": "completed"
    },
    "tags": []
   },
   "source": [
    "I am going to use three models (Logistic Regression, Decision Tree,& Random Forest model) to predict. Firstly, I will train up the model by extracting training data from train_df. The predication results from three models will be evalued and the best model will be applied to final prediction on test_df."
   ]
  },
  {
   "cell_type": "markdown",
   "id": "f2bcc06d",
   "metadata": {},
   "source": [
    "### Train test split"
   ]
  },
  {
   "cell_type": "code",
   "execution_count": 36,
   "id": "ccdf0c54",
   "metadata": {},
   "outputs": [],
   "source": [
    "from sklearn.model_selection import train_test_split\n",
    "from sklearn.metrics import classification_report,confusion_matrix,accuracy_score"
   ]
  },
  {
   "cell_type": "code",
   "execution_count": 38,
   "id": "3678d807",
   "metadata": {},
   "outputs": [],
   "source": [
    "X = train_df.drop(['PassengerId','Survived'],axis=1)\n",
    "y = train_df['Survived']"
   ]
  },
  {
   "cell_type": "code",
   "execution_count": 39,
   "id": "1d34bf12",
   "metadata": {},
   "outputs": [],
   "source": [
    "X_train, X_test, y_train, y_test = train_test_split(X, y, test_size=0.3, random_state=101)"
   ]
  },
  {
   "cell_type": "markdown",
   "id": "4cc51477",
   "metadata": {
    "papermill": {
     "duration": 0.068285,
     "end_time": "2021-11-22T10:24:34.979730",
     "exception": false,
     "start_time": "2021-11-22T10:24:34.911445",
     "status": "completed"
    },
    "tags": []
   },
   "source": [
    "**Logistic Regression - train and predict**"
   ]
  },
  {
   "cell_type": "code",
   "execution_count": 40,
   "id": "f4f0de66",
   "metadata": {
    "execution": {
     "iopub.execute_input": "2021-11-22T10:24:35.122010Z",
     "iopub.status.busy": "2021-11-22T10:24:35.121297Z",
     "iopub.status.idle": "2021-11-22T10:24:35.205731Z",
     "shell.execute_reply": "2021-11-22T10:24:35.206224Z",
     "shell.execute_reply.started": "2021-11-22T10:23:57.558921Z"
    },
    "papermill": {
     "duration": 0.156621,
     "end_time": "2021-11-22T10:24:35.206454",
     "exception": false,
     "start_time": "2021-11-22T10:24:35.049833",
     "status": "completed"
    },
    "tags": []
   },
   "outputs": [],
   "source": [
    "from sklearn.linear_model import LogisticRegression"
   ]
  },
  {
   "cell_type": "code",
   "execution_count": 41,
   "id": "1f544959",
   "metadata": {
    "execution": {
     "iopub.execute_input": "2021-11-22T10:24:35.350413Z",
     "iopub.status.busy": "2021-11-22T10:24:35.349744Z",
     "iopub.status.idle": "2021-11-22T10:24:35.358282Z",
     "shell.execute_reply": "2021-11-22T10:24:35.358791Z",
     "shell.execute_reply.started": "2021-11-22T10:23:57.644633Z"
    },
    "papermill": {
     "duration": 0.083736,
     "end_time": "2021-11-22T10:24:35.358956",
     "exception": false,
     "start_time": "2021-11-22T10:24:35.275220",
     "status": "completed"
    },
    "tags": []
   },
   "outputs": [
    {
     "data": {
      "text/plain": [
       "LogisticRegression(solver='liblinear')"
      ]
     },
     "execution_count": 41,
     "metadata": {},
     "output_type": "execute_result"
    }
   ],
   "source": [
    "logmodel = LogisticRegression(solver='liblinear')\n",
    "logmodel.fit(X_train,y_train)"
   ]
  },
  {
   "cell_type": "code",
   "execution_count": 42,
   "id": "47f646aa",
   "metadata": {
    "execution": {
     "iopub.execute_input": "2021-11-22T10:24:35.502914Z",
     "iopub.status.busy": "2021-11-22T10:24:35.502229Z",
     "iopub.status.idle": "2021-11-22T10:24:35.503656Z",
     "shell.execute_reply": "2021-11-22T10:24:35.504233Z",
     "shell.execute_reply.started": "2021-11-22T10:23:57.660252Z"
    },
    "papermill": {
     "duration": 0.076945,
     "end_time": "2021-11-22T10:24:35.504422",
     "exception": false,
     "start_time": "2021-11-22T10:24:35.427477",
     "status": "completed"
    },
    "tags": []
   },
   "outputs": [],
   "source": [
    "pred_log = logmodel.predict(X_test)"
   ]
  },
  {
   "cell_type": "code",
   "execution_count": 43,
   "id": "0be6adb8",
   "metadata": {},
   "outputs": [
    {
     "name": "stdout",
     "output_type": "stream",
     "text": [
      "0.8389513108614233\n",
      "\n",
      "\n",
      "              precision    recall  f1-score   support\n",
      "\n",
      "           0       0.83      0.93      0.88       163\n",
      "           1       0.86      0.70      0.77       104\n",
      "\n",
      "    accuracy                           0.84       267\n",
      "   macro avg       0.84      0.81      0.82       267\n",
      "weighted avg       0.84      0.84      0.84       267\n",
      "\n",
      "\n",
      "\n",
      "[[151  12]\n",
      " [ 31  73]]\n"
     ]
    }
   ],
   "source": [
    "print(accuracy_score(y_test,pred_log))\n",
    "print('\\n')\n",
    "print(classification_report(y_test,pred_log))\n",
    "print('\\n')\n",
    "print(confusion_matrix(y_test,pred_log))"
   ]
  },
  {
   "cell_type": "markdown",
   "id": "9e2845d6",
   "metadata": {
    "papermill": {
     "duration": 0.069319,
     "end_time": "2021-11-22T10:24:35.947548",
     "exception": false,
     "start_time": "2021-11-22T10:24:35.878229",
     "status": "completed"
    },
    "tags": []
   },
   "source": [
    "**Decision tree - train and test**"
   ]
  },
  {
   "cell_type": "code",
   "execution_count": 44,
   "id": "7021bb77",
   "metadata": {
    "execution": {
     "iopub.execute_input": "2021-11-22T10:24:36.090438Z",
     "iopub.status.busy": "2021-11-22T10:24:36.089607Z",
     "iopub.status.idle": "2021-11-22T10:24:36.179339Z",
     "shell.execute_reply": "2021-11-22T10:24:36.178752Z",
     "shell.execute_reply.started": "2021-11-22T10:23:57.695254Z"
    },
    "papermill": {
     "duration": 0.162359,
     "end_time": "2021-11-22T10:24:36.179516",
     "exception": false,
     "start_time": "2021-11-22T10:24:36.017157",
     "status": "completed"
    },
    "tags": []
   },
   "outputs": [],
   "source": [
    "from sklearn.tree import DecisionTreeClassifier"
   ]
  },
  {
   "cell_type": "code",
   "execution_count": 45,
   "id": "ffb8ceba",
   "metadata": {
    "execution": {
     "iopub.execute_input": "2021-11-22T10:24:36.324706Z",
     "iopub.status.busy": "2021-11-22T10:24:36.323976Z",
     "iopub.status.idle": "2021-11-22T10:24:36.332653Z",
     "shell.execute_reply": "2021-11-22T10:24:36.332122Z",
     "shell.execute_reply.started": "2021-11-22T10:23:57.784372Z"
    },
    "papermill": {
     "duration": 0.084054,
     "end_time": "2021-11-22T10:24:36.332800",
     "exception": false,
     "start_time": "2021-11-22T10:24:36.248746",
     "status": "completed"
    },
    "tags": []
   },
   "outputs": [
    {
     "data": {
      "text/plain": [
       "DecisionTreeClassifier()"
      ]
     },
     "execution_count": 45,
     "metadata": {},
     "output_type": "execute_result"
    }
   ],
   "source": [
    "dtree = DecisionTreeClassifier()\n",
    "dtree.fit(X_train,y_train)"
   ]
  },
  {
   "cell_type": "code",
   "execution_count": 46,
   "id": "ffdda4b4",
   "metadata": {
    "execution": {
     "iopub.execute_input": "2021-11-22T10:24:36.478591Z",
     "iopub.status.busy": "2021-11-22T10:24:36.477835Z",
     "iopub.status.idle": "2021-11-22T10:24:36.479929Z",
     "shell.execute_reply": "2021-11-22T10:24:36.479433Z",
     "shell.execute_reply.started": "2021-11-22T10:23:57.797004Z"
    },
    "papermill": {
     "duration": 0.077842,
     "end_time": "2021-11-22T10:24:36.480087",
     "exception": false,
     "start_time": "2021-11-22T10:24:36.402245",
     "status": "completed"
    },
    "tags": []
   },
   "outputs": [],
   "source": [
    "pred_tree = dtree.predict(X_test)"
   ]
  },
  {
   "cell_type": "code",
   "execution_count": 47,
   "id": "da25a825",
   "metadata": {
    "execution": {
     "iopub.execute_input": "2021-11-22T10:24:36.626243Z",
     "iopub.status.busy": "2021-11-22T10:24:36.623997Z",
     "iopub.status.idle": "2021-11-22T10:24:36.636043Z",
     "shell.execute_reply": "2021-11-22T10:24:36.636565Z",
     "shell.execute_reply.started": "2021-11-22T10:23:57.806296Z"
    },
    "papermill": {
     "duration": 0.085761,
     "end_time": "2021-11-22T10:24:36.636746",
     "exception": false,
     "start_time": "2021-11-22T10:24:36.550985",
     "status": "completed"
    },
    "tags": []
   },
   "outputs": [
    {
     "name": "stdout",
     "output_type": "stream",
     "text": [
      "0.7790262172284644\n",
      "\n",
      "\n",
      "              precision    recall  f1-score   support\n",
      "\n",
      "           0       0.80      0.85      0.82       163\n",
      "           1       0.74      0.67      0.70       104\n",
      "\n",
      "    accuracy                           0.78       267\n",
      "   macro avg       0.77      0.76      0.76       267\n",
      "weighted avg       0.78      0.78      0.78       267\n",
      "\n",
      "\n",
      "\n",
      "[[138  25]\n",
      " [ 34  70]]\n"
     ]
    }
   ],
   "source": [
    "print(accuracy_score(y_test,pred_tree))\n",
    "print('\\n')\n",
    "print(classification_report(y_test,pred_tree))\n",
    "print('\\n')\n",
    "print(confusion_matrix(y_test,pred_tree))"
   ]
  },
  {
   "cell_type": "markdown",
   "id": "d66c756b",
   "metadata": {
    "papermill": {
     "duration": 0.069727,
     "end_time": "2021-11-22T10:24:36.777428",
     "exception": false,
     "start_time": "2021-11-22T10:24:36.707701",
     "status": "completed"
    },
    "tags": []
   },
   "source": [
    "**Random forests - train and test**"
   ]
  },
  {
   "cell_type": "code",
   "execution_count": 48,
   "id": "d6a69db8",
   "metadata": {
    "execution": {
     "iopub.execute_input": "2021-11-22T10:24:36.921535Z",
     "iopub.status.busy": "2021-11-22T10:24:36.920836Z",
     "iopub.status.idle": "2021-11-22T10:24:37.176443Z",
     "shell.execute_reply": "2021-11-22T10:24:37.175762Z",
     "shell.execute_reply.started": "2021-11-22T10:23:57.828518Z"
    },
    "papermill": {
     "duration": 0.328311,
     "end_time": "2021-11-22T10:24:37.176604",
     "exception": false,
     "start_time": "2021-11-22T10:24:36.848293",
     "status": "completed"
    },
    "tags": []
   },
   "outputs": [
    {
     "data": {
      "text/plain": [
       "RandomForestClassifier()"
      ]
     },
     "execution_count": 48,
     "metadata": {},
     "output_type": "execute_result"
    }
   ],
   "source": [
    "from sklearn.ensemble import RandomForestClassifier\n",
    "rfc = RandomForestClassifier(n_estimators=100)\n",
    "rfc.fit(X_train,y_train)"
   ]
  },
  {
   "cell_type": "code",
   "execution_count": 49,
   "id": "16bab773",
   "metadata": {
    "execution": {
     "iopub.execute_input": "2021-11-22T10:24:37.322095Z",
     "iopub.status.busy": "2021-11-22T10:24:37.321461Z",
     "iopub.status.idle": "2021-11-22T10:24:37.340571Z",
     "shell.execute_reply": "2021-11-22T10:24:37.341084Z",
     "shell.execute_reply.started": "2021-11-22T10:23:58.085766Z"
    },
    "papermill": {
     "duration": 0.093002,
     "end_time": "2021-11-22T10:24:37.341273",
     "exception": false,
     "start_time": "2021-11-22T10:24:37.248271",
     "status": "completed"
    },
    "tags": []
   },
   "outputs": [],
   "source": [
    "pred_rf = rfc.predict(X_test)"
   ]
  },
  {
   "cell_type": "code",
   "execution_count": 50,
   "id": "2ee66d48",
   "metadata": {
    "execution": {
     "iopub.execute_input": "2021-11-22T10:24:37.485472Z",
     "iopub.status.busy": "2021-11-22T10:24:37.484804Z",
     "iopub.status.idle": "2021-11-22T10:24:37.496998Z",
     "shell.execute_reply": "2021-11-22T10:24:37.497741Z",
     "shell.execute_reply.started": "2021-11-22T10:23:58.109496Z"
    },
    "papermill": {
     "duration": 0.0862,
     "end_time": "2021-11-22T10:24:37.497970",
     "exception": false,
     "start_time": "2021-11-22T10:24:37.411770",
     "status": "completed"
    },
    "tags": []
   },
   "outputs": [
    {
     "name": "stdout",
     "output_type": "stream",
     "text": [
      "0.8389513108614233\n",
      "\n",
      "\n",
      "              precision    recall  f1-score   support\n",
      "\n",
      "           0       0.84      0.90      0.87       163\n",
      "           1       0.83      0.74      0.78       104\n",
      "\n",
      "    accuracy                           0.84       267\n",
      "   macro avg       0.84      0.82      0.83       267\n",
      "weighted avg       0.84      0.84      0.84       267\n",
      "\n",
      "\n",
      "\n",
      "[[147  16]\n",
      " [ 27  77]]\n"
     ]
    }
   ],
   "source": [
    "print(accuracy_score(y_test,pred_rf))\n",
    "print('\\n')\n",
    "print(classification_report(y_test,pred_rf))\n",
    "print('\\n')\n",
    "print(confusion_matrix(y_test,pred_rf))"
   ]
  },
  {
   "cell_type": "markdown",
   "id": "f2477189",
   "metadata": {},
   "source": [
    "**Support vector machine - train and test**"
   ]
  },
  {
   "cell_type": "code",
   "execution_count": 51,
   "id": "d7a79aac",
   "metadata": {},
   "outputs": [],
   "source": [
    "from sklearn.svm import SVC"
   ]
  },
  {
   "cell_type": "code",
   "execution_count": 53,
   "id": "7f83e8dc",
   "metadata": {},
   "outputs": [
    {
     "data": {
      "text/plain": [
       "SVC()"
      ]
     },
     "execution_count": 53,
     "metadata": {},
     "output_type": "execute_result"
    }
   ],
   "source": [
    "model = SVC()\n",
    "model.fit(X_train,y_train)"
   ]
  },
  {
   "cell_type": "code",
   "execution_count": 54,
   "id": "d76ee71b",
   "metadata": {},
   "outputs": [],
   "source": [
    "pred_svc = model.predict(X_test)"
   ]
  },
  {
   "cell_type": "code",
   "execution_count": 55,
   "id": "c1a3bd5d",
   "metadata": {
    "scrolled": true
   },
   "outputs": [
    {
     "name": "stdout",
     "output_type": "stream",
     "text": [
      "0.6666666666666666\n",
      "\n",
      "\n",
      "              precision    recall  f1-score   support\n",
      "\n",
      "           0       0.67      0.90      0.77       163\n",
      "           1       0.65      0.31      0.42       104\n",
      "\n",
      "    accuracy                           0.67       267\n",
      "   macro avg       0.66      0.60      0.59       267\n",
      "weighted avg       0.66      0.67      0.63       267\n",
      "\n",
      "\n",
      "\n",
      "[[146  17]\n",
      " [ 72  32]]\n"
     ]
    }
   ],
   "source": [
    "print(accuracy_score(y_test,pred_svc))\n",
    "print('\\n')\n",
    "print(classification_report(y_test,pred_svc))\n",
    "print('\\n')\n",
    "print(confusion_matrix(y_test,pred_svc))"
   ]
  },
  {
   "cell_type": "markdown",
   "id": "70ec710c",
   "metadata": {},
   "source": [
    "#### Opitmized SVC model - train and test"
   ]
  },
  {
   "cell_type": "code",
   "execution_count": 56,
   "id": "1c9af2ad",
   "metadata": {},
   "outputs": [],
   "source": [
    "from sklearn.model_selection import GridSearchCV"
   ]
  },
  {
   "cell_type": "code",
   "execution_count": 57,
   "id": "cc466871",
   "metadata": {},
   "outputs": [],
   "source": [
    "param_grid = {'C': [0.1,1, 10, 100, 1000], 'gamma': [1,0.1,0.01,0.001,0.0001], 'kernel': ['rbf']} "
   ]
  },
  {
   "cell_type": "code",
   "execution_count": 58,
   "id": "fd3afbcf",
   "metadata": {},
   "outputs": [],
   "source": [
    "grid = GridSearchCV(SVC(),param_grid,refit=True,verbose=3)"
   ]
  },
  {
   "cell_type": "code",
   "execution_count": 59,
   "id": "508748e1",
   "metadata": {},
   "outputs": [
    {
     "name": "stdout",
     "output_type": "stream",
     "text": [
      "Fitting 5 folds for each of 25 candidates, totalling 125 fits\n",
      "[CV 1/5] END .....................C=0.1, gamma=1, kernel=rbf; total time=   0.0s\n",
      "[CV 2/5] END .....................C=0.1, gamma=1, kernel=rbf; total time=   0.0s\n",
      "[CV 3/5] END .....................C=0.1, gamma=1, kernel=rbf; total time=   0.0s\n",
      "[CV 4/5] END .....................C=0.1, gamma=1, kernel=rbf; total time=   0.0s\n",
      "[CV 5/5] END .....................C=0.1, gamma=1, kernel=rbf; total time=   0.0s\n",
      "[CV 1/5] END ...................C=0.1, gamma=0.1, kernel=rbf; total time=   0.0s\n",
      "[CV 2/5] END ...................C=0.1, gamma=0.1, kernel=rbf; total time=   0.0s\n",
      "[CV 3/5] END ...................C=0.1, gamma=0.1, kernel=rbf; total time=   0.0s\n",
      "[CV 4/5] END ...................C=0.1, gamma=0.1, kernel=rbf; total time=   0.0s\n",
      "[CV 5/5] END ...................C=0.1, gamma=0.1, kernel=rbf; total time=   0.0s\n",
      "[CV 1/5] END ..................C=0.1, gamma=0.01, kernel=rbf; total time=   0.0s\n",
      "[CV 2/5] END ..................C=0.1, gamma=0.01, kernel=rbf; total time=   0.0s\n",
      "[CV 3/5] END ..................C=0.1, gamma=0.01, kernel=rbf; total time=   0.0s\n",
      "[CV 4/5] END ..................C=0.1, gamma=0.01, kernel=rbf; total time=   0.0s\n",
      "[CV 5/5] END ..................C=0.1, gamma=0.01, kernel=rbf; total time=   0.0s\n",
      "[CV 1/5] END .................C=0.1, gamma=0.001, kernel=rbf; total time=   0.0s\n",
      "[CV 2/5] END .................C=0.1, gamma=0.001, kernel=rbf; total time=   0.0s\n",
      "[CV 3/5] END .................C=0.1, gamma=0.001, kernel=rbf; total time=   0.0s\n",
      "[CV 4/5] END .................C=0.1, gamma=0.001, kernel=rbf; total time=   0.0s\n",
      "[CV 5/5] END .................C=0.1, gamma=0.001, kernel=rbf; total time=   0.0s\n",
      "[CV 1/5] END ................C=0.1, gamma=0.0001, kernel=rbf; total time=   0.0s\n",
      "[CV 2/5] END ................C=0.1, gamma=0.0001, kernel=rbf; total time=   0.0s\n",
      "[CV 3/5] END ................C=0.1, gamma=0.0001, kernel=rbf; total time=   0.0s\n",
      "[CV 4/5] END ................C=0.1, gamma=0.0001, kernel=rbf; total time=   0.0s\n",
      "[CV 5/5] END ................C=0.1, gamma=0.0001, kernel=rbf; total time=   0.0s\n",
      "[CV 1/5] END .......................C=1, gamma=1, kernel=rbf; total time=   0.0s\n",
      "[CV 2/5] END .......................C=1, gamma=1, kernel=rbf; total time=   0.0s\n",
      "[CV 3/5] END .......................C=1, gamma=1, kernel=rbf; total time=   0.0s\n",
      "[CV 4/5] END .......................C=1, gamma=1, kernel=rbf; total time=   0.0s\n",
      "[CV 5/5] END .......................C=1, gamma=1, kernel=rbf; total time=   0.0s\n",
      "[CV 1/5] END .....................C=1, gamma=0.1, kernel=rbf; total time=   0.0s\n",
      "[CV 2/5] END .....................C=1, gamma=0.1, kernel=rbf; total time=   0.0s\n",
      "[CV 3/5] END .....................C=1, gamma=0.1, kernel=rbf; total time=   0.0s\n",
      "[CV 4/5] END .....................C=1, gamma=0.1, kernel=rbf; total time=   0.0s\n",
      "[CV 5/5] END .....................C=1, gamma=0.1, kernel=rbf; total time=   0.0s\n",
      "[CV 1/5] END ....................C=1, gamma=0.01, kernel=rbf; total time=   0.0s\n",
      "[CV 2/5] END ....................C=1, gamma=0.01, kernel=rbf; total time=   0.0s\n",
      "[CV 3/5] END ....................C=1, gamma=0.01, kernel=rbf; total time=   0.0s\n",
      "[CV 4/5] END ....................C=1, gamma=0.01, kernel=rbf; total time=   0.0s\n",
      "[CV 5/5] END ....................C=1, gamma=0.01, kernel=rbf; total time=   0.0s\n",
      "[CV 1/5] END ...................C=1, gamma=0.001, kernel=rbf; total time=   0.0s\n",
      "[CV 2/5] END ...................C=1, gamma=0.001, kernel=rbf; total time=   0.0s\n",
      "[CV 3/5] END ...................C=1, gamma=0.001, kernel=rbf; total time=   0.0s\n",
      "[CV 4/5] END ...................C=1, gamma=0.001, kernel=rbf; total time=   0.0s\n",
      "[CV 5/5] END ...................C=1, gamma=0.001, kernel=rbf; total time=   0.0s\n",
      "[CV 1/5] END ..................C=1, gamma=0.0001, kernel=rbf; total time=   0.0s\n",
      "[CV 2/5] END ..................C=1, gamma=0.0001, kernel=rbf; total time=   0.0s\n",
      "[CV 3/5] END ..................C=1, gamma=0.0001, kernel=rbf; total time=   0.0s\n",
      "[CV 4/5] END ..................C=1, gamma=0.0001, kernel=rbf; total time=   0.0s\n",
      "[CV 5/5] END ..................C=1, gamma=0.0001, kernel=rbf; total time=   0.0s\n",
      "[CV 1/5] END ......................C=10, gamma=1, kernel=rbf; total time=   0.0s\n",
      "[CV 2/5] END ......................C=10, gamma=1, kernel=rbf; total time=   0.0s\n",
      "[CV 3/5] END ......................C=10, gamma=1, kernel=rbf; total time=   0.0s\n",
      "[CV 4/5] END ......................C=10, gamma=1, kernel=rbf; total time=   0.0s\n",
      "[CV 5/5] END ......................C=10, gamma=1, kernel=rbf; total time=   0.0s\n",
      "[CV 1/5] END ....................C=10, gamma=0.1, kernel=rbf; total time=   0.0s\n",
      "[CV 2/5] END ....................C=10, gamma=0.1, kernel=rbf; total time=   0.0s\n",
      "[CV 3/5] END ....................C=10, gamma=0.1, kernel=rbf; total time=   0.0s\n",
      "[CV 4/5] END ....................C=10, gamma=0.1, kernel=rbf; total time=   0.0s\n",
      "[CV 5/5] END ....................C=10, gamma=0.1, kernel=rbf; total time=   0.0s\n",
      "[CV 1/5] END ...................C=10, gamma=0.01, kernel=rbf; total time=   0.0s\n",
      "[CV 2/5] END ...................C=10, gamma=0.01, kernel=rbf; total time=   0.0s\n",
      "[CV 3/5] END ...................C=10, gamma=0.01, kernel=rbf; total time=   0.0s\n",
      "[CV 4/5] END ...................C=10, gamma=0.01, kernel=rbf; total time=   0.0s\n",
      "[CV 5/5] END ...................C=10, gamma=0.01, kernel=rbf; total time=   0.0s\n",
      "[CV 1/5] END ..................C=10, gamma=0.001, kernel=rbf; total time=   0.0s\n",
      "[CV 2/5] END ..................C=10, gamma=0.001, kernel=rbf; total time=   0.0s\n",
      "[CV 3/5] END ..................C=10, gamma=0.001, kernel=rbf; total time=   0.0s\n",
      "[CV 4/5] END ..................C=10, gamma=0.001, kernel=rbf; total time=   0.0s\n",
      "[CV 5/5] END ..................C=10, gamma=0.001, kernel=rbf; total time=   0.0s\n",
      "[CV 1/5] END .................C=10, gamma=0.0001, kernel=rbf; total time=   0.0s\n",
      "[CV 2/5] END .................C=10, gamma=0.0001, kernel=rbf; total time=   0.0s\n",
      "[CV 3/5] END .................C=10, gamma=0.0001, kernel=rbf; total time=   0.0s\n",
      "[CV 4/5] END .................C=10, gamma=0.0001, kernel=rbf; total time=   0.0s\n",
      "[CV 5/5] END .................C=10, gamma=0.0001, kernel=rbf; total time=   0.0s\n",
      "[CV 1/5] END .....................C=100, gamma=1, kernel=rbf; total time=   0.0s\n",
      "[CV 2/5] END .....................C=100, gamma=1, kernel=rbf; total time=   0.0s\n",
      "[CV 3/5] END .....................C=100, gamma=1, kernel=rbf; total time=   0.0s\n",
      "[CV 4/5] END .....................C=100, gamma=1, kernel=rbf; total time=   0.0s\n",
      "[CV 5/5] END .....................C=100, gamma=1, kernel=rbf; total time=   0.0s\n",
      "[CV 1/5] END ...................C=100, gamma=0.1, kernel=rbf; total time=   0.0s\n",
      "[CV 2/5] END ...................C=100, gamma=0.1, kernel=rbf; total time=   0.0s\n",
      "[CV 3/5] END ...................C=100, gamma=0.1, kernel=rbf; total time=   0.0s\n",
      "[CV 4/5] END ...................C=100, gamma=0.1, kernel=rbf; total time=   0.0s\n",
      "[CV 5/5] END ...................C=100, gamma=0.1, kernel=rbf; total time=   0.0s\n",
      "[CV 1/5] END ..................C=100, gamma=0.01, kernel=rbf; total time=   0.0s\n",
      "[CV 2/5] END ..................C=100, gamma=0.01, kernel=rbf; total time=   0.0s\n",
      "[CV 3/5] END ..................C=100, gamma=0.01, kernel=rbf; total time=   0.0s\n",
      "[CV 4/5] END ..................C=100, gamma=0.01, kernel=rbf; total time=   0.0s\n",
      "[CV 5/5] END ..................C=100, gamma=0.01, kernel=rbf; total time=   0.0s\n",
      "[CV 1/5] END .................C=100, gamma=0.001, kernel=rbf; total time=   0.0s\n",
      "[CV 2/5] END .................C=100, gamma=0.001, kernel=rbf; total time=   0.0s\n",
      "[CV 3/5] END .................C=100, gamma=0.001, kernel=rbf; total time=   0.0s\n",
      "[CV 4/5] END .................C=100, gamma=0.001, kernel=rbf; total time=   0.0s\n",
      "[CV 5/5] END .................C=100, gamma=0.001, kernel=rbf; total time=   0.0s\n",
      "[CV 1/5] END ................C=100, gamma=0.0001, kernel=rbf; total time=   0.0s\n",
      "[CV 2/5] END ................C=100, gamma=0.0001, kernel=rbf; total time=   0.0s\n",
      "[CV 3/5] END ................C=100, gamma=0.0001, kernel=rbf; total time=   0.0s\n",
      "[CV 4/5] END ................C=100, gamma=0.0001, kernel=rbf; total time=   0.0s\n",
      "[CV 5/5] END ................C=100, gamma=0.0001, kernel=rbf; total time=   0.0s\n",
      "[CV 1/5] END ....................C=1000, gamma=1, kernel=rbf; total time=   0.0s\n",
      "[CV 2/5] END ....................C=1000, gamma=1, kernel=rbf; total time=   0.0s\n",
      "[CV 3/5] END ....................C=1000, gamma=1, kernel=rbf; total time=   0.0s\n",
      "[CV 4/5] END ....................C=1000, gamma=1, kernel=rbf; total time=   0.0s\n"
     ]
    },
    {
     "name": "stdout",
     "output_type": "stream",
     "text": [
      "[CV 5/5] END ....................C=1000, gamma=1, kernel=rbf; total time=   0.0s\n",
      "[CV 1/5] END ..................C=1000, gamma=0.1, kernel=rbf; total time=   0.0s\n",
      "[CV 2/5] END ..................C=1000, gamma=0.1, kernel=rbf; total time=   0.0s\n",
      "[CV 3/5] END ..................C=1000, gamma=0.1, kernel=rbf; total time=   0.0s\n",
      "[CV 4/5] END ..................C=1000, gamma=0.1, kernel=rbf; total time=   0.0s\n",
      "[CV 5/5] END ..................C=1000, gamma=0.1, kernel=rbf; total time=   0.0s\n",
      "[CV 1/5] END .................C=1000, gamma=0.01, kernel=rbf; total time=   0.0s\n",
      "[CV 2/5] END .................C=1000, gamma=0.01, kernel=rbf; total time=   0.0s\n",
      "[CV 3/5] END .................C=1000, gamma=0.01, kernel=rbf; total time=   0.0s\n",
      "[CV 4/5] END .................C=1000, gamma=0.01, kernel=rbf; total time=   0.0s\n",
      "[CV 5/5] END .................C=1000, gamma=0.01, kernel=rbf; total time=   0.0s\n",
      "[CV 1/5] END ................C=1000, gamma=0.001, kernel=rbf; total time=   0.0s\n",
      "[CV 2/5] END ................C=1000, gamma=0.001, kernel=rbf; total time=   0.0s\n",
      "[CV 3/5] END ................C=1000, gamma=0.001, kernel=rbf; total time=   0.0s\n",
      "[CV 4/5] END ................C=1000, gamma=0.001, kernel=rbf; total time=   0.0s\n",
      "[CV 5/5] END ................C=1000, gamma=0.001, kernel=rbf; total time=   0.0s\n",
      "[CV 1/5] END ...............C=1000, gamma=0.0001, kernel=rbf; total time=   0.0s\n",
      "[CV 2/5] END ...............C=1000, gamma=0.0001, kernel=rbf; total time=   0.0s\n",
      "[CV 3/5] END ...............C=1000, gamma=0.0001, kernel=rbf; total time=   0.0s\n",
      "[CV 4/5] END ...............C=1000, gamma=0.0001, kernel=rbf; total time=   0.0s\n",
      "[CV 5/5] END ...............C=1000, gamma=0.0001, kernel=rbf; total time=   0.0s\n"
     ]
    },
    {
     "data": {
      "text/plain": [
       "GridSearchCV(estimator=SVC(),\n",
       "             param_grid={'C': [0.1, 1, 10, 100, 1000],\n",
       "                         'gamma': [1, 0.1, 0.01, 0.001, 0.0001],\n",
       "                         'kernel': ['rbf']},\n",
       "             verbose=3)"
      ]
     },
     "execution_count": 59,
     "metadata": {},
     "output_type": "execute_result"
    }
   ],
   "source": [
    "grid.fit(X_train,y_train)"
   ]
  },
  {
   "cell_type": "code",
   "execution_count": 61,
   "id": "d3216339",
   "metadata": {},
   "outputs": [
    {
     "data": {
      "text/plain": [
       "SVC(C=1000, gamma=0.0001)"
      ]
     },
     "execution_count": 61,
     "metadata": {},
     "output_type": "execute_result"
    }
   ],
   "source": [
    "grid.best_estimator_"
   ]
  },
  {
   "cell_type": "code",
   "execution_count": 62,
   "id": "d7ca5245",
   "metadata": {},
   "outputs": [],
   "source": [
    "grid_pred = grid.predict(X_test)"
   ]
  },
  {
   "cell_type": "code",
   "execution_count": 63,
   "id": "69f72d1d",
   "metadata": {},
   "outputs": [
    {
     "name": "stdout",
     "output_type": "stream",
     "text": [
      "0.8426966292134831\n",
      "\n",
      "\n",
      "              precision    recall  f1-score   support\n",
      "\n",
      "           0       0.84      0.91      0.88       163\n",
      "           1       0.84      0.73      0.78       104\n",
      "\n",
      "    accuracy                           0.84       267\n",
      "   macro avg       0.84      0.82      0.83       267\n",
      "weighted avg       0.84      0.84      0.84       267\n",
      "\n",
      "\n",
      "\n",
      "[[149  14]\n",
      " [ 28  76]]\n"
     ]
    }
   ],
   "source": [
    "print(accuracy_score(y_test,grid_pred))\n",
    "print('\\n')\n",
    "print(classification_report(y_test,grid_pred))\n",
    "print('\\n')\n",
    "print(confusion_matrix(y_test,grid_pred))"
   ]
  },
  {
   "cell_type": "markdown",
   "id": "c1638fe8",
   "metadata": {
    "papermill": {
     "duration": 0.071048,
     "end_time": "2021-11-22T10:24:37.641297",
     "exception": false,
     "start_time": "2021-11-22T10:24:37.570249",
     "status": "completed"
    },
    "tags": []
   },
   "source": [
    "The optimized SVC model scores the hightest with 0.84 in accuracy_score.\n",
    "\n",
    "Therefore, **Optimized SVC model** is applied for my prediction."
   ]
  },
  {
   "cell_type": "markdown",
   "id": "840c999f",
   "metadata": {
    "papermill": {
     "duration": 0.070027,
     "end_time": "2021-11-22T10:24:37.782237",
     "exception": false,
     "start_time": "2021-11-22T10:24:37.712210",
     "status": "completed"
    },
    "tags": []
   },
   "source": [
    "# **Submmision file**"
   ]
  },
  {
   "cell_type": "code",
   "execution_count": null,
   "id": "06a855e4",
   "metadata": {
    "execution": {
     "iopub.execute_input": "2021-11-22T10:24:37.926391Z",
     "iopub.status.busy": "2021-11-22T10:24:37.925704Z",
     "iopub.status.idle": "2021-11-22T10:24:37.946829Z",
     "shell.execute_reply": "2021-11-22T10:24:37.947348Z",
     "shell.execute_reply.started": "2021-11-22T10:23:58.124431Z"
    },
    "papermill": {
     "duration": 0.094799,
     "end_time": "2021-11-22T10:24:37.947553",
     "exception": false,
     "start_time": "2021-11-22T10:24:37.852754",
     "status": "completed"
    },
    "tags": []
   },
   "outputs": [],
   "source": [
    "predictions = grid.predict(test_df.drop('PassengerId',axis=1))"
   ]
  },
  {
   "cell_type": "code",
   "execution_count": null,
   "id": "1dafb38d",
   "metadata": {
    "execution": {
     "iopub.execute_input": "2021-11-22T10:24:38.094684Z",
     "iopub.status.busy": "2021-11-22T10:24:38.093990Z",
     "iopub.status.idle": "2021-11-22T10:24:38.097964Z",
     "shell.execute_reply": "2021-11-22T10:24:38.098452Z",
     "shell.execute_reply.started": "2021-11-22T10:23:58.149749Z"
    },
    "papermill": {
     "duration": 0.079415,
     "end_time": "2021-11-22T10:24:38.098643",
     "exception": false,
     "start_time": "2021-11-22T10:24:38.019228",
     "status": "completed"
    },
    "tags": []
   },
   "outputs": [],
   "source": [
    "submission = pd.DataFrame({'PassengerId': test_df['PassengerId'],'Survived': predictions})"
   ]
  },
  {
   "cell_type": "code",
   "execution_count": null,
   "id": "a7f1c168",
   "metadata": {
    "execution": {
     "iopub.execute_input": "2021-11-22T10:24:38.242696Z",
     "iopub.status.busy": "2021-11-22T10:24:38.242044Z",
     "iopub.status.idle": "2021-11-22T10:24:38.248684Z",
     "shell.execute_reply": "2021-11-22T10:24:38.249131Z",
     "shell.execute_reply.started": "2021-11-22T10:23:58.156692Z"
    },
    "papermill": {
     "duration": 0.080097,
     "end_time": "2021-11-22T10:24:38.249303",
     "exception": false,
     "start_time": "2021-11-22T10:24:38.169206",
     "status": "completed"
    },
    "tags": []
   },
   "outputs": [],
   "source": [
    "submission.to_csv('submission.csv', index=False)"
   ]
  },
  {
   "cell_type": "markdown",
   "id": "04857f96",
   "metadata": {
    "papermill": {
     "duration": 0.069923,
     "end_time": "2021-11-22T10:24:38.389730",
     "exception": false,
     "start_time": "2021-11-22T10:24:38.319807",
     "status": "completed"
    },
    "tags": []
   },
   "source": [
    "**Reference**\n",
    "1. [Titanic Survival Predictions (Beginner)](http://www.kaggle.com/nadintamer/titanic-survival-predictions-beginner)\n",
    "2. [Titanic Data Science Solutions](http://www.kaggle.com/startupsci/titanic-data-science-solutions)"
   ]
  }
 ],
 "metadata": {
  "kernelspec": {
   "display_name": "Python 3",
   "language": "python",
   "name": "python3"
  },
  "language_info": {
   "codemirror_mode": {
    "name": "ipython",
    "version": 3
   },
   "file_extension": ".py",
   "mimetype": "text/x-python",
   "name": "python",
   "nbconvert_exporter": "python",
   "pygments_lexer": "ipython3",
   "version": "3.8.8"
  },
  "papermill": {
   "default_parameters": {},
   "duration": 25.984299,
   "end_time": "2021-11-22T10:24:39.170590",
   "environment_variables": {},
   "exception": null,
   "input_path": "__notebook__.ipynb",
   "output_path": "__notebook__.ipynb",
   "parameters": {},
   "start_time": "2021-11-22T10:24:13.186291",
   "version": "2.3.3"
  }
 },
 "nbformat": 4,
 "nbformat_minor": 5
}
