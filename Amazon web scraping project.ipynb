{
 "cells": [
  {
   "cell_type": "markdown",
   "id": "586a7b13",
   "metadata": {},
   "source": [
    "# Import libraries"
   ]
  },
  {
   "cell_type": "code",
   "execution_count": 7,
   "id": "ce54ed93",
   "metadata": {},
   "outputs": [],
   "source": [
    "from bs4 import BeautifulSoup\n",
    "import requests\n",
    "import time\n",
    "import datetime\n",
    "import csv\n",
    "import pandas as pd\n",
    "import re"
   ]
  },
  {
   "cell_type": "markdown",
   "id": "d0ae24e7",
   "metadata": {},
   "source": [
    "## Extracting data"
   ]
  },
  {
   "cell_type": "code",
   "execution_count": 12,
   "id": "e9afa8e2",
   "metadata": {},
   "outputs": [
    {
     "name": "stdout",
     "output_type": "stream",
     "text": [
      "<Response [200]>\n",
      "\n",
      "            Men's Hair Matte Clay by American Crew, Like Hair Gel with Medium/High Hold, 3 Oz\n",
      "           \n",
      "\n",
      "                $18.50\n",
      "               \n",
      "\n",
      "\n",
      "                4.6 out of 5 stars\n",
      "               \n",
      "\n",
      "\n",
      "             461 ratings\n",
      "            \n"
     ]
    }
   ],
   "source": [
    "URL = 'https://www.amazon.com/Mens-Hair-Matte-American-Medium/dp/B089R496ZY/ref=sr_1_8?keywords=hair+clay&qid=1649156087&sr=8-8'\n",
    "\n",
    "headers = {\"User-Agent\": \"Mozilla/5.0 (Windows NT 10.0; Win64; x64) AppleWebKit/537.36 (KHTML, like Gecko) Chrome/98.0.4758.102 Safari/537.36\", \"Accept-Encoding\":\"gzip, deflate\", \"Accept\":\"text/html,application/xhtml+xml,application/xml;q=0.9,*/*;q=0.8\", \"DNT\":\"1\",\"Connection\":\"close\", \"Upgrade-Insecure-Requests\":\"1\"}\n",
    "#Find Your User-Agent: https://httpbin.org/get\n",
    "page = requests.get(URL,headers=headers)\n",
    "\n",
    "soup1 = BeautifulSoup(page.content, \"html.parser\")\n",
    "\n",
    "soup2 = BeautifulSoup(soup1.prettify(), \"html.parser\")\n",
    "\n",
    "title = soup2.find(id=\"productTitle\").get_text()\n",
    "\n",
    "price = soup2.find('span', 'a-offscreen').get_text()\n",
    "\n",
    "review = soup2.find('i', 'a-icon a-icon-star a-star-4-5').get_text()\n",
    "\n",
    "rating = soup2.find('span',id='acrCustomerReviewText', class_='a-size-base').get_text()\n",
    "\n",
    "print(page)\n",
    "print(title)   \n",
    "print(price)\n",
    "print(review)\n",
    "print(rating)\n"
   ]
  },
  {
   "cell_type": "markdown",
   "id": "84f2842a",
   "metadata": {},
   "source": [
    "# Clean up data"
   ]
  },
  {
   "cell_type": "code",
   "execution_count": 3,
   "id": "0219b600",
   "metadata": {
    "scrolled": true
   },
   "outputs": [
    {
     "name": "stdout",
     "output_type": "stream",
     "text": [
      "Men's Hair Matte Clay by American Crew, Like Hair Gel with Medium/High Hold, 3 Oz\n",
      "18.50\n",
      "4.6\n",
      "439\n"
     ]
    }
   ],
   "source": [
    "price = price.strip()[1:]\n",
    "title = title.strip()\n",
    "rating = rating.split()[0]\n",
    "review = review.split()[0]\n",
    "\n",
    "print(title)\n",
    "print(price) \n",
    "print(review)\n",
    "print(rating)"
   ]
  },
  {
   "cell_type": "code",
   "execution_count": 4,
   "id": "8ad16521",
   "metadata": {},
   "outputs": [
    {
     "name": "stdout",
     "output_type": "stream",
     "text": [
      "2022-04-07\n"
     ]
    }
   ],
   "source": [
    "today = datetime.date.today()\n",
    "print(today)"
   ]
  },
  {
   "cell_type": "markdown",
   "id": "132d8c93",
   "metadata": {},
   "source": [
    "# Creat csv file"
   ]
  },
  {
   "cell_type": "code",
   "execution_count": 19,
   "id": "818298d8",
   "metadata": {},
   "outputs": [],
   "source": [
    "headers = ['title','price','review(out of 5)', 'rating','date']\n",
    "data = [title,price,review,rating,today]\n",
    "\n",
    "with open('hair_clay.csv','w',newline='',encoding='UTF8') as f:\n",
    "    writer = csv.writer(f)\n",
    "    writer.writerow(headers)\n",
    "    writer.writerow(data)"
   ]
  },
  {
   "cell_type": "code",
   "execution_count": null,
   "id": "8224dc18",
   "metadata": {
    "scrolled": true
   },
   "outputs": [],
   "source": [
    "df = pd.read_csv('hair_clay.csv')\n",
    "df"
   ]
  },
  {
   "cell_type": "code",
   "execution_count": 21,
   "id": "eed67694",
   "metadata": {},
   "outputs": [],
   "source": [
    "# Appening data to the csv\n",
    "with open('hair_clay.csv','a+',newline='',encoding='UTF8') as f:\n",
    "    writer = csv.writer(f)\n",
    "    writer.writerow(data)"
   ]
  },
  {
   "cell_type": "markdown",
   "id": "0ae913e8",
   "metadata": {},
   "source": [
    "# Automate the process with time"
   ]
  },
  {
   "cell_type": "code",
   "execution_count": 23,
   "id": "fea1cbb3",
   "metadata": {},
   "outputs": [],
   "source": [
    "#automate the appending process\n",
    "\n",
    "def chase_info():\n",
    "    \n",
    "    URL = 'https://www.amazon.com/Mens-Hair-Matte-American-Medium/dp/B089R496ZY/ref=sr_1_8?keywords=hair+clay&qid=1649156087&sr=8-8'\n",
    "\n",
    "    headers = {\"User-Agent\": \"Mozilla/5.0 (Windows NT 10.0; Win64; x64) AppleWebKit/537.36 (KHTML, like Gecko) Chrome/98.0.4758.102 Safari/537.36\", \"Accept-Encoding\":\"gzip, deflate\", \"Accept\":\"text/html,application/xhtml+xml,application/xml;q=0.9,*/*;q=0.8\", \"DNT\":\"1\",\"Connection\":\"close\", \"Upgrade-Insecure-Requests\":\"1\"}\n",
    "\n",
    "    page = requests.get(URL,headers=headers)\n",
    "\n",
    "    soup1 = BeautifulSoup(page.content, \"html.parser\")\n",
    "\n",
    "    soup2 = BeautifulSoup(soup1.prettify(), \"html.parser\")\n",
    "\n",
    "    title = soup2.find(id=\"productTitle\").get_text()\n",
    "\n",
    "    price = soup2.find('span', 'a-offscreen').get_text()\n",
    "\n",
    "    review = soup2.find('i', 'a-icon a-icon-star a-star-4-5').get_text()\n",
    "\n",
    "    rating = soup2.find('span',id='acrCustomerReviewText', class_='a-size-base').get_text()\n",
    "    \n",
    "    #cleaning data\n",
    "    title = title.strip()\n",
    "    price = price.strip()[1:]\n",
    "    rating = rating.split()[0]\n",
    "    review = review.split()[0]\n",
    "    \n",
    "    #add date\n",
    "    today = datetime.date.today()\n",
    "    \n",
    "    #data list\n",
    "    data = [title,price,review,rating,today]\n",
    "    \n",
    "    #append data\n",
    "    with open('hair_clay.csv','a+',newline='',encoding='UTF8') as f:\n",
    "        writer = csv.writer(f)\n",
    "        writer.writerow(data)"
   ]
  },
  {
   "cell_type": "code",
   "execution_count": null,
   "id": "0b706505",
   "metadata": {},
   "outputs": [],
   "source": [
    "# run chase_info for a set time and append into csv\n",
    "while(True):\n",
    "    chase_info()\n",
    "    time.sleep(5)"
   ]
  },
  {
   "cell_type": "code",
   "execution_count": null,
   "id": "cc6b1d30",
   "metadata": {},
   "outputs": [],
   "source": [
    "df = pd.read_csv('hair_clay.csv')\n",
    "df"
   ]
  }
 ],
 "metadata": {
  "kernelspec": {
   "display_name": "Python 3 (ipykernel)",
   "language": "python",
   "name": "python3"
  },
  "language_info": {
   "codemirror_mode": {
    "name": "ipython",
    "version": 3
   },
   "file_extension": ".py",
   "mimetype": "text/x-python",
   "name": "python",
   "nbconvert_exporter": "python",
   "pygments_lexer": "ipython3",
   "version": "3.10.4"
  }
 },
 "nbformat": 4,
 "nbformat_minor": 5
}
